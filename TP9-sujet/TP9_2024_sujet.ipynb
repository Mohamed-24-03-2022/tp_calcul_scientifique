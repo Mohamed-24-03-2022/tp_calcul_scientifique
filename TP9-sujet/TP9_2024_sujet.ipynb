{
 "cells": [
  {
   "cell_type": "markdown",
   "metadata": {},
   "source": [
    "# TP9 -- Retour sur la logique -- Matrices avec numpy ou sympy"
   ]
  },
  {
   "cell_type": "markdown",
   "metadata": {},
   "source": [
    "## Partie Logique"
   ]
  },
  {
   "cell_type": "markdown",
   "metadata": {},
   "source": [
    "Les valeurs Booléennes qui représentent le vrai et le faux sont True et False. Les opérations logiques\n",
    "utilisées sont :  \n",
    "- AND  &  : a & b\n",
    "- OR  | :  a | b\n",
    "- NOT  ~  : ~a\n",
    "- => : a >> b"
   ]
  },
  {
   "cell_type": "markdown",
   "metadata": {},
   "source": [
    "1) Représentez la formule:  $F = ((p \\to q) \\vee(r \\wedge \\neg p)) \\wedge \\neg(q \\wedge r)$ \n",
    "\n",
    "où p,q,r sont des variables propositionnelles donc des symboles"
   ]
  },
  {
   "cell_type": "code",
   "execution_count": 1,
   "metadata": {},
   "outputs": [
    {
     "data": {
      "text/latex": [
       "$\\displaystyle \\neg \\left(q \\wedge r\\right) \\wedge \\left(\\left(r \\wedge \\neg q\\right) \\vee \\left(p \\Rightarrow q\\right)\\right)$"
      ],
      "text/plain": [
       "~(q & r) & ((Implies(p, q)) | (r & ~q))"
      ]
     },
     "execution_count": 1,
     "metadata": {},
     "output_type": "execute_result"
    }
   ],
   "source": [
    "import sympy as sy\n",
    "# à compléter\n",
    "p,q,r = sy.symbols(\"p,q,r\")\n",
    "f = ((p>>q) | (r&~q)) & ~(q&r)\n",
    "f"
   ]
  },
  {
   "cell_type": "markdown",
   "metadata": {},
   "source": [
    "2) Que vaut F quand p est vrai, q aussi et r faux? Et quand p est vrai, q et r sont faux?"
   ]
  },
  {
   "cell_type": "code",
   "execution_count": 5,
   "metadata": {},
   "outputs": [
    {
     "name": "stdout",
     "output_type": "stream",
     "text": [
      "pour True True False True\n",
      "pour True False False False\n"
     ]
    }
   ],
   "source": [
    "# à compléter\n",
    "sol1 = f.subs({p:True, q:True, r:False})\n",
    "print('pour True True False', sol1)\n",
    "\n",
    "sol2 = f.subs({p:True, q:False, r:False})\n",
    "print('pour True False False', sol2)"
   ]
  },
  {
   "cell_type": "markdown",
   "metadata": {},
   "source": [
    "3) On peut aussi mélanger valuation et variables: Que sera le résultat de $f$ si on substitue FAUX à la variable q ?"
   ]
  },
  {
   "cell_type": "code",
   "execution_count": 10,
   "metadata": {},
   "outputs": [
    {
     "name": "stdout",
     "output_type": "stream",
     "text": [
      "<itertools.product object at 0x000001FDB47E7F80>\n"
     ]
    }
   ],
   "source": [
    "# à compléter\n",
    "sol3 = f.subs(q,False)\n",
    "sol3\n"
   ]
  },
  {
   "cell_type": "markdown",
   "metadata": {},
   "source": [
    "4) Faire la table de vérité de F  (on écrira une boucle)"
   ]
  },
  {
   "cell_type": "code",
   "execution_count": 16,
   "metadata": {},
   "outputs": [
    {
     "name": "stdout",
     "output_type": "stream",
     "text": [
      "pour (False, False, False) \t True\n",
      "pour (False, False, True) \t True\n",
      "pour (False, True, False) \t True\n",
      "pour (False, True, True) \t False\n",
      "pour (True, False, False) \t False\n",
      "pour (True, False, True) \t True\n",
      "pour (True, True, False) \t True\n",
      "pour (True, True, True) \t False\n"
     ]
    }
   ],
   "source": [
    "# à compléter\n",
    "\n",
    "for i in sy.cartes([False,True], repeat=3):\n",
    "  a,b,c = i\n",
    "  print('pour', i, '\\t', f.subs({p:a, q:b, r:c}))"
   ]
  },
  {
   "cell_type": "markdown",
   "metadata": {},
   "source": [
    "5. Mise sous forme normale: toute expression peut être mise sous forme normale\n",
    "- d'une conjonction de disjonctions (FN conjonctive)\n",
    "- d'une disjonction de conjonctions (FN disjonctive)\n",
    "\n",
    "Pour trouver la FN conjonctive (resp. disjonctive) de F, on fait appel à la fonction to_cnf (resp.\n",
    "to_dnf ) de sympy\n",
    "\n",
    " Donner les FNC et FND de F"
   ]
  },
  {
   "cell_type": "code",
   "execution_count": 22,
   "metadata": {},
   "outputs": [
    {
     "name": "stdout",
     "output_type": "stream",
     "text": [
      "Forme conjonctive : (~q | ~r) & (q | r | ~p) & (q | ~p | ~q)\n",
      "Forme disjonctive  : (q & ~q) | (q & ~r) | (r & ~q) | (~p & ~q) | (~p & ~r) | (r & ~q & ~r)\n"
     ]
    }
   ],
   "source": [
    "# à compléter\n",
    "fnc = sy.to_cnf(f)\n",
    "print('Forme conjonctive :', fnc)\n",
    "print('Forme disjonctive  :', sy.to_dnf(f))"
   ]
  },
  {
   "cell_type": "markdown",
   "metadata": {},
   "source": [
    "6) Simplifier F"
   ]
  },
  {
   "cell_type": "code",
   "execution_count": 24,
   "metadata": {},
   "outputs": [
    {
     "data": {
      "text/latex": [
       "$\\displaystyle \\left(q \\wedge \\neg r\\right) \\vee \\left(r \\wedge \\neg q\\right) \\vee \\left(\\neg p \\wedge \\neg q\\right)$"
      ],
      "text/plain": [
       "(q & ~r) | (r & ~q) | (~p & ~q)"
      ]
     },
     "execution_count": 24,
     "metadata": {},
     "output_type": "execute_result"
    }
   ],
   "source": [
    "# à compléter\n",
    "sy.simplify(f)"
   ]
  },
  {
   "cell_type": "markdown",
   "metadata": {},
   "source": [
    "7. On considère la formule $F$ donnée par sa table de vérité dont la dernière colonne est dans l'ortdre usuel\n",
    "\n",
    "10101100\n",
    "\n",
    "Donner deux formules qui ont cette table de vérité (une conjonctive et une disjonctive)"
   ]
  },
  {
   "cell_type": "code",
   "execution_count": 26,
   "metadata": {},
   "outputs": [
    {
     "data": {
      "text/latex": [
       "$\\displaystyle \\left(r \\wedge \\neg q\\right) \\vee \\left(\\neg p \\wedge \\neg r\\right)$"
      ],
      "text/plain": [
       "(r & ~q) | (~p & ~r)"
      ]
     },
     "metadata": {},
     "output_type": "display_data"
    },
    {
     "data": {
      "text/latex": [
       "$\\displaystyle \\left(r \\vee \\neg p\\right) \\wedge \\left(\\neg q \\vee \\neg r\\right)$"
      ],
      "text/plain": [
       "(r | ~p) & (~q | ~r)"
      ]
     },
     "metadata": {},
     "output_type": "display_data"
    }
   ],
   "source": [
    "# à compléter\n",
    "minterms = [(0,0,0), (0,1,0), (0,0,1), (1,0,1)]\n",
    "G = sy.SOPform(['p','q','r'], minterms)\n",
    "display(G)\n",
    "H = sy.POSform(['p','q','r'], minterms)\n",
    "display(H)"
   ]
  },
  {
   "cell_type": "markdown",
   "metadata": {},
   "source": [
    "## Calcul matriciel"
   ]
  },
  {
   "cell_type": "markdown",
   "metadata": {},
   "source": [
    "Ce TP présente l'objet spécifique matrix, défini dans NumPy et SymPy pour supporter les matrices et les opérations associées. On y voit également en quoi ces modules sont adaptés à l'algèbre linéaire, en facilitant la résolution de systèmes d'équations linéaires, par exemple, grâce aux opérations efficaces sur les matrices.\n"
   ]
  },
  {
   "cell_type": "code",
   "execution_count": 2,
   "metadata": {},
   "outputs": [],
   "source": [
    "import numpy as np\n",
    "import sympy as sp\n",
    "import warnings\n",
    "warnings.filterwarnings('ignore')\n"
   ]
  },
  {
   "cell_type": "markdown",
   "metadata": {},
   "source": [
    "## Création de matrices\n",
    "\n",
    "Une matrice se représente en NumPy à l'aide d'un objet matrix. Il s'agit en fait d'une sous-classe de ndarray, c'est-à-dire que tout ce que l'on a vu sur les atableaux (arrays) s'applique également aux objets matrix. La manière la plus immédiate de créer une matrice consiste à utiliser la fonction **np.matrix**. Une autre façon de créer une matrice consiste à transformer un tableau multidimensionnel à l'aide de la fonction **np.mat**\n",
    "\n",
    "Le résultat attendu est un objet matrix, ou plus précisément un objet numpy.matrixlib.defmatrix.matrix, qui est également une instance de la classe ndarray."
   ]
  },
  {
   "cell_type": "markdown",
   "metadata": {},
   "source": [
    "1. Créer les matrices suivantes (en utilisant np.mat et en utilisant matrix):\n",
    "\n",
    "$A = \\begin{bmatrix}1 & 0 & 0\\\\\n",
    "2 & -2 & 1\\\\\n",
    "0& -3 & 3\n",
    "\\end{bmatrix}\n",
    "\\;\\;\\;    \n",
    "B = \\begin{bmatrix}1 & 2 & 0\\\\\n",
    "0 & -2 & 2\\\\\n",
    "1& -1 & 1\n",
    "\\end{bmatrix}\n",
    "\\;\\;\\;\n",
    "C = \\begin{bmatrix}1 & 2 & 3\\\\\n",
    "1& -1 & 1\n",
    "\\end{bmatrix}\n",
    "\\;\\;\\;et\\;\\;\\;\\; \n",
    "D = \\begin{bmatrix}1 & 2 & 3\\\\\n",
    "2 & 4 & 6\\\\\n",
    "3& 6 & 9\n",
    "\\end{bmatrix}\n",
    "$"
   ]
  },
  {
   "cell_type": "code",
   "execution_count": 27,
   "metadata": {},
   "outputs": [
    {
     "data": {
      "text/plain": [
       "matrix([[ 1,  0,  0],\n",
       "        [ 2, -2,  1],\n",
       "        [ 0, -3,  3]])"
      ]
     },
     "metadata": {},
     "output_type": "display_data"
    },
    {
     "data": {
      "text/plain": [
       "matrix([[ 1,  2,  0],\n",
       "        [ 0, -2,  2],\n",
       "        [ 1, -1,  1]])"
      ]
     },
     "metadata": {},
     "output_type": "display_data"
    },
    {
     "data": {
      "text/plain": [
       "matrix([[ 1,  2,  3],\n",
       "        [ 1,  1, -1]])"
      ]
     },
     "metadata": {},
     "output_type": "display_data"
    },
    {
     "data": {
      "text/plain": [
       "matrix([[1, 2, 3],\n",
       "        [2, 4, 6],\n",
       "        [3, 6, 9]])"
      ]
     },
     "metadata": {},
     "output_type": "display_data"
    }
   ],
   "source": [
    "# à compléter\n",
    "\n",
    "A = np.mat([[1,0,0],[2,-2,1],[0,-3,3]])\n",
    "display(A)\n",
    "B = np.matrix([[1,2,0], [0,-2,2], [1,-1,1]])\n",
    "display(B)\n",
    "\n",
    "# TODO I CHANGED THE SECOND LINE OF C MATRIX\n",
    "C = np.matrix([[1,2,3], [1,1,-1]])\n",
    "display(C)\n",
    "D = np.mat([[1,2,3], [2,4,6], [3,6,9]])\n",
    "display(D)\n"
   ]
  },
  {
   "cell_type": "code",
   "execution_count": 10,
   "metadata": {
    "scrolled": true
   },
   "outputs": [
    {
     "name": "stdout",
     "output_type": "stream",
     "text": [
      "A = [[ 1  0  0]\n",
      " [ 2 -2  1]\n",
      " [ 0 -3  3]]\n",
      "Type de A  <class 'numpy.matrix'>\n",
      "B = [[ 1  2  0]\n",
      " [ 0 -2  2]\n",
      " [ 1 -1  1]]\n",
      "Type de B  <class 'numpy.matrix'>\n",
      "C = [[ 1  2  3]\n",
      " [ 1  1 -1]]\n",
      "Type de C  <class 'numpy.matrix'>\n"
     ]
    }
   ],
   "source": [
    "# à compléter"
   ]
  },
  {
   "cell_type": "markdown",
   "metadata": {},
   "source": [
    "On peut créer facilement des matrices particulières comme les matrices identité ou des matrices nulles.\n",
    "Créer les matrices identité de taille  3 et la matrice nulle à 3 lignes et 4  colonnes.\n",
    "On affichera le type obtenu."
   ]
  },
  {
   "cell_type": "code",
   "execution_count": 41,
   "metadata": {},
   "outputs": [
    {
     "data": {
      "text/plain": [
       "array([[0., 0., 0., 0.],\n",
       "       [0., 0., 0., 0.],\n",
       "       [0., 0., 0., 0.]])"
      ]
     },
     "metadata": {},
     "output_type": "display_data"
    },
    {
     "data": {
      "text/plain": [
       "array([[1., 0., 0.],\n",
       "       [0., 1., 0.],\n",
       "       [0., 0., 1.]])"
      ]
     },
     "metadata": {},
     "output_type": "display_data"
    }
   ],
   "source": [
    "# à compléter\n",
    "zeros = np.zeros((3,4))\n",
    "display(zeros)\n",
    "eye = np.eye(3)\n",
    "display(eye)"
   ]
  },
  {
   "cell_type": "markdown",
   "metadata": {},
   "source": [
    "## Propriétés: \n",
    "#### Taille \n",
    "- Afficher la taille de la matrice A (sa dimension) et vérifier que la matrice A est bien une matrice carrée"
   ]
  },
  {
   "cell_type": "code",
   "execution_count": 64,
   "metadata": {},
   "outputs": [
    {
     "name": "stdout",
     "output_type": "stream",
     "text": [
      "Taille de A :  (3, 3)\n",
      "A est-elle carrée ? : True\n"
     ]
    }
   ],
   "source": [
    "# à compléter\n",
    "print('Taille de A : ',A.shape)\n",
    "Ainv = np.linalg.inv(A)\n",
    "\n",
    "\n",
    "# print((np.dot(A, Ainv) == np.eye(A.shape[0])).all())\n",
    "\n",
    "print('A est-elle carrée ? :', np.isclose(Ainv@A, np.eye(3)).all())"
   ]
  },
  {
   "cell_type": "markdown",
   "metadata": {},
   "source": [
    "#### Diagonale principale\n",
    "- Afficher la diagonale principale de la matrice A (c'est-à-dire les éléments (a)ij tels que i=j). \n",
    "- Afficher ensuite les autres diagonales au-dessus et en-dessous de la diagonale principale\n"
   ]
  },
  {
   "cell_type": "code",
   "execution_count": 80,
   "metadata": {},
   "outputs": [
    {
     "data": {
      "text/plain": [
       "array([ 1, -2,  3])"
      ]
     },
     "metadata": {},
     "output_type": "display_data"
    },
    {
     "name": "stdout",
     "output_type": "stream",
     "text": [
      "[0] [0 1]\n",
      "[ 2 -3] [0]\n"
     ]
    }
   ],
   "source": [
    "# à compléter\n",
    "display(np.diagonal(A))\n",
    "print(np.diagonal(A, 2), np.diagonal(A, 1))\n",
    "print(np.diagonal(A, -1), np.diagonal(A, -2))\n",
    "\n"
   ]
  },
  {
   "cell_type": "markdown",
   "metadata": {},
   "source": [
    "### Trace\n",
    "\n",
    "- Calculer la trace de la matrice carrée A (avec **np.trace**) et vérifier qu'elle est égale à la somme des éléments de sa diagonale principale."
   ]
  },
  {
   "cell_type": "code",
   "execution_count": 82,
   "metadata": {},
   "outputs": [
    {
     "name": "stdout",
     "output_type": "stream",
     "text": [
      "2\n",
      "Vérification :  = True\n"
     ]
    }
   ],
   "source": [
    "# à compléter\n",
    "traceA = np.trace(A)\n",
    "print(traceA)\n",
    "print('Vérification :  =', traceA == np.sum(np.diagonal(A)))\n"
   ]
  },
  {
   "cell_type": "markdown",
   "metadata": {},
   "source": [
    "### Rang\n",
    "- Le rang d'une matrice s'obtient avec la fonction **np.linalg.matrix_rank** qui représente notamment le nombre de lignes linéairement indépendantes d'une matrice. Calculer le rang des trois matrices B,C et D :"
   ]
  },
  {
   "cell_type": "code",
   "execution_count": 86,
   "metadata": {},
   "outputs": [
    {
     "name": "stdout",
     "output_type": "stream",
     "text": [
      "3\n",
      "3\n",
      "2\n",
      "1\n"
     ]
    }
   ],
   "source": [
    "# à compléter\n",
    "print(np.linalg.matrix_rank(A))\n",
    "print(np.linalg.matrix_rank(B))\n",
    "print(np.linalg.matrix_rank(C))\n",
    "print(np.linalg.matrix_rank(D))"
   ]
  },
  {
   "cell_type": "markdown",
   "metadata": {},
   "source": [
    "### Déterminant\n",
    "- Le calcul du déterminant, uniquement défini sur les matrices carrées, intervient notamment dans la résolution de systèmes d'équations linéaires. On l'obtient avec la fonction **np.linalg.det**. \n",
    "\n",
    "Calculer les déterminants des matrices A et B:"
   ]
  },
  {
   "cell_type": "code",
   "execution_count": 87,
   "metadata": {},
   "outputs": [
    {
     "name": "stdout",
     "output_type": "stream",
     "text": [
      "-2.9999999999999996\n",
      "4.000000000000001\n"
     ]
    }
   ],
   "source": [
    "# à compléter\n",
    "print(np.linalg.det(A))\n",
    "print(np.linalg.det(B))\n"
   ]
  },
  {
   "cell_type": "markdown",
   "metadata": {},
   "source": [
    "### Transposée\n",
    "- Calculer la transposée d'une matrice revient à construire une nouvelle matrice dont les lignes sont les colonnes de la matrice originale, et vice-versa. Calculer la transposée de la matrice A :"
   ]
  },
  {
   "cell_type": "code",
   "execution_count": 90,
   "metadata": {},
   "outputs": [
    {
     "data": {
      "text/plain": [
       "matrix([[ 1,  2,  0],\n",
       "        [ 0, -2, -3],\n",
       "        [ 0,  1,  3]])"
      ]
     },
     "execution_count": 90,
     "metadata": {},
     "output_type": "execute_result"
    }
   ],
   "source": [
    "# à compléter\n",
    "np.transpose(A)"
   ]
  },
  {
   "cell_type": "markdown",
   "metadata": {},
   "source": [
    "### Produit\n",
    "\n",
    "Tout comme pour les vecteurs, différentes possibilités existent pour le produit de matrices. Ces différentes opérations sont évidemment supportées par Numpy.\n",
    "\n",
    "\n",
    "#### Produit matriciel\n",
    "- Étant donné deux matrices compatibles, c'est-à-dire que le nombre de colonnes de la première est égal au nombre de lignes de la seconde, on peut effectuer un produit matriciel entre ces deux matrices. "
   ]
  },
  {
   "cell_type": "markdown",
   "metadata": {},
   "source": [
    "Attention à ne pas confondre A*B pour les tableaux et np.dot(A,B)"
   ]
  },
  {
   "cell_type": "code",
   "execution_count": 18,
   "metadata": {},
   "outputs": [
    {
     "data": {
      "text/plain": [
       "array([[1, 2],\n",
       "       [3, 4]])"
      ]
     },
     "metadata": {},
     "output_type": "display_data"
    },
    {
     "data": {
      "text/plain": [
       "'M1*M1= '"
      ]
     },
     "metadata": {},
     "output_type": "display_data"
    },
    {
     "data": {
      "text/plain": [
       "array([[ 1,  4],\n",
       "       [ 9, 16]])"
      ]
     },
     "metadata": {},
     "output_type": "display_data"
    },
    {
     "data": {
      "text/plain": [
       "'M1@M1'"
      ]
     },
     "metadata": {},
     "output_type": "display_data"
    },
    {
     "data": {
      "text/plain": [
       "array([[ 7, 10],\n",
       "       [15, 22]])"
      ]
     },
     "metadata": {},
     "output_type": "display_data"
    }
   ],
   "source": [
    "# à compléter\n"
   ]
  },
  {
   "cell_type": "markdown",
   "metadata": {},
   "source": [
    "Calculer le produit matriciel entre les différentes matrices si elles sont de tailles compatibles et voir ce qui se produit si les matrices ne sont pas de tailles compatibles."
   ]
  },
  {
   "cell_type": "code",
   "execution_count": 28,
   "metadata": {},
   "outputs": [
    {
     "name": "stdout",
     "output_type": "stream",
     "text": [
      "A.B: [[ 1  2  0]\n",
      " [ 3  7 -3]\n",
      " [ 3  3 -3]]\n",
      "\n",
      "\n",
      "A.B: [[ 1  2  0]\n",
      " [ 3  7 -3]\n",
      " [ 3  3 -3]]\n",
      "\n",
      "\n",
      "A*B: [[ 1  2  0]\n",
      " [ 3  7 -3]\n",
      " [ 3  3 -3]]\n",
      "\n",
      "\n",
      "C*A: [[  5 -13  11]\n",
      " [  3   1  -2]]\n",
      "\n",
      "\n",
      "[[ 1  2  3]\n",
      " [ 0  2  8]\n",
      " [-3 -3  3]]\n"
     ]
    }
   ],
   "source": [
    "# à compléter\n",
    "#print(A[:,:2]*C)\n",
    "#print (\"si on demande CA qui n'est pas calculable il se produira une erreur  \")\n",
    "#np.dot(A,C)           \n",
    "print('A.B:', np.dot(A,B))       \n",
    "print('\\n')\n",
    "\n",
    "print('A.B:', A@B) \n",
    "print('\\n')\n",
    "\n",
    "print('A*B:', A*B)\n",
    "print('\\n')\n",
    "\n",
    "print('C*A:', C*A)\n",
    "print('\\n')\n",
    "\n",
    "\n",
    "print(A[:,:2]*C)"
   ]
  },
  {
   "cell_type": "markdown",
   "metadata": {},
   "source": [
    "### Inverse\n",
    "\n",
    "- Une autre opération très importante en algèbre linéaire, notamment pour résoudre des systèmes d'équations linéaires, consiste à calculer l'inverse d'une matrice carrée. Si la matrice est inversible, alors on peut obtenir son inverse avec l'attribut I. \n",
    "\n",
    "\n",
    "Vérifier si la matrice A est inversible, afficher son inverse et vérifier que le produit de A avec son inverse donne la matrice identité"
   ]
  },
  {
   "cell_type": "code",
   "execution_count": 38,
   "metadata": {},
   "outputs": [
    {
     "name": "stdout",
     "output_type": "stream",
     "text": [
      "[[ 1.          0.          0.        ]\n",
      " [ 2.         -1.          0.33333333]\n",
      " [ 2.         -1.          0.66666667]]\n",
      "[[ True  True  True]\n",
      " [ True  True  True]\n",
      " [ True  True False]]\n"
     ]
    },
    {
     "data": {
      "text/plain": [
       "True"
      ]
     },
     "execution_count": 38,
     "metadata": {},
     "output_type": "execute_result"
    }
   ],
   "source": [
    "# à compléter\n",
    "print(A.I)\n",
    "print(A*A.I == np.eye(3))\n",
    "np.isclose(A*A.I, np.eye(3)).all()"
   ]
  },
  {
   "cell_type": "markdown",
   "metadata": {},
   "source": [
    "Pour s'en sortir lorsque l'on fait des calculs en nombres flottants, il ne faut jamais comparer deux valeurs avec l'opérateur d'égalité. Une solution pour comparer deux matrices de float consiste à utiliser la fonction allclose qui permet de faire une égalité approximative :"
   ]
  },
  {
   "cell_type": "code",
   "execution_count": 21,
   "metadata": {},
   "outputs": [
    {
     "name": "stdout",
     "output_type": "stream",
     "text": [
      "Vérification avec np.allclose:\n",
      "True\n"
     ]
    }
   ],
   "source": [
    "print(\"Vérification avec np.allclose:\")\n",
    "print(np.allclose(A * A.I, np.identity(3)))"
   ]
  },
  {
   "cell_type": "markdown",
   "metadata": {},
   "source": [
    "#### Changement de base :\n",
    "Si A est la matrice d'origine et P la matrice de passage on peut calculer B matrice dans la nouvelle base avec $B=P^{-1}AP$"
   ]
  },
  {
   "cell_type": "code",
   "execution_count": 41,
   "metadata": {},
   "outputs": [
    {
     "name": "stdout",
     "output_type": "stream",
     "text": [
      "déterminant de P = 1.0\n",
      "matrice dans la nouvelle base :\n",
      " [[ 0.  0.  0.  0.]\n",
      " [ 0.  0.  0.  0.]\n",
      " [ 0.  0.  1.  0.]\n",
      " [ 0.  0.  0. -1.]]\n"
     ]
    }
   ],
   "source": [
    "A=np.matrix([[1,0,0,-2],[2,-2,2,0],[0,-3,3,6],[1,0,0,-2]])\n",
    "P = np.matrix([[2,0,0,1],[4,1,2,2],[2,1,3,0],[1,0,0,1]])\n",
    "\n",
    "# à compléter\n",
    "print('déterminant de P =', np.linalg.det(P))\n",
    "\n",
    "B = P.I*A*P\n",
    "print('matrice dans la nouvelle base :\\n', B)"
   ]
  },
  {
   "cell_type": "markdown",
   "metadata": {},
   "source": [
    "# Systèmes d'équations linéaires\n",
    "\n",
    "Résoudre un système d'équations linéaires revient à résoudre une équation de la forme $A\\cdot X=B$ où $A$ est la matrice du systeme et $X$ et $B$ deux matrices colonnes. On déduit que la solution est simplement $X= A^{−1} \\cdot B $ sous certaines conditions."
   ]
  },
  {
   "cell_type": "markdown",
   "metadata": {},
   "source": [
    "- Résoudre le système suivant :\n",
    "\n",
    "\\begin{cases}\n",
    "3x+y-z  &=2 \\\\\n",
    "-x-y +z&=0\\\\\n",
    "2x+y +z&=3\\\\\n",
    "\\end{cases}\n",
    "\n",
    "Le systeme devient $A\\cdot X=B$ "
   ]
  },
  {
   "cell_type": "code",
   "execution_count": 57,
   "metadata": {},
   "outputs": [
    {
     "name": "stdout",
     "output_type": "stream",
     "text": [
      "x= 1.0 y= 1.6653345369377346e-16 z= 1.0\n",
      "x= 1.0 y= 0.0 z= 1.0\n"
     ]
    }
   ],
   "source": [
    "# à compléter\n",
    "\n",
    "# x,y,z = sp.symbols(\"x,y,z\")\n",
    "A = np.matrix([[3,1,-1], [-1,-1,1],[2,1,1]])\n",
    "b = np.array([2,0,3])\n",
    "# X = np.array([x,y,z])\n",
    "x,y,z = np.linalg.solve(A,b)\n",
    "print('x=', x, 'y=', y, 'z=', z)\n",
    "print('x=', np.round(x), 'y=', np.round(y), 'z=', np.round(z))"
   ]
  },
  {
   "cell_type": "code",
   "execution_count": 58,
   "metadata": {},
   "outputs": [],
   "source": [
    "A=np.array([[3,1,-1],[-1,-1,1],[2,1,1]])\n",
    "B=np.array([[2],[0],[3]])\n",
    "C=np.array([2,0,3])\n",
    "# à compléter"
   ]
  },
  {
   "cell_type": "markdown",
   "metadata": {},
   "source": [
    "Résoudre l'équation suivante : (Résolution approximative)\n",
    "\\begin{cases}\n",
    "x+2y  &=1 \\\\\n",
    "2x+4y &=0\n",
    "\\end{cases}"
   ]
  },
  {
   "cell_type": "code",
   "execution_count": 86,
   "metadata": {},
   "outputs": [
    {
     "name": "stdout",
     "output_type": "stream",
     "text": [
      "Determinant de A: 0.0\n"
     ]
    }
   ],
   "source": [
    "# à compléter\n",
    "A = np.matrix([[1,2],[2,4]])\n",
    "B = np.array([1,0])\n",
    "\n",
    "print('Determinant de A:', np.linalg.det(A))\n",
    "# np.linalg.solve(A,B)"
   ]
  },
  {
   "cell_type": "markdown",
   "metadata": {},
   "source": [
    "Heureusement, tout n'est pas perdu. On peut, en effet, obtenir une solution approximative, qui va faire en sorte que Ax soit le plus proche possible de b, c'est-à-dire une solution qui va minimiser b−Ax. Pour cela, il suffit d'utiliser la fonction lstsq du module scipy.linalg, à qui on passe en paramètres les matrices A et b, comme ci-dessous :"
   ]
  },
  {
   "cell_type": "code",
   "execution_count": 78,
   "metadata": {},
   "outputs": [
    {
     "name": "stdout",
     "output_type": "stream",
     "text": [
      "x= 0.03999999999999999 y= 0.07999999999999997\n"
     ]
    }
   ],
   "source": [
    "# à compléter\n",
    "import scipy as sc\n",
    "x,y = sc.linalg.lstsq(A,B)[0]\n",
    "print(f'x= {x} y= {y}')\n"
   ]
  },
  {
   "cell_type": "markdown",
   "metadata": {},
   "source": [
    "Résoudre l'équation suivante : x +y =2\n",
    "\n",
    "On va, en fait, obtenir une des solutions acceptables pour le système :"
   ]
  },
  {
   "cell_type": "code",
   "execution_count": 87,
   "metadata": {},
   "outputs": [
    {
     "data": {
      "text/plain": [
       "(0.9999999999999996, 0.9999999999999999)"
      ]
     },
     "execution_count": 87,
     "metadata": {},
     "output_type": "execute_result"
    }
   ],
   "source": [
    "# à compléter\n",
    "a = np.matrix([1,1])\n",
    "b = np.array([2])\n",
    "\n",
    "x,y = sc.linalg.lstsq(a,b)[0]\n",
    "x,y"
   ]
  },
  {
   "cell_type": "markdown",
   "metadata": {},
   "source": [
    "# Matrices avec sympy"
   ]
  },
  {
   "cell_type": "markdown",
   "metadata": {},
   "source": [
    "On peut aussi utiliser sympy pour travailler avec les matrices.\n",
    "Ceci permet en plus d'utiliser des symboles et de calculer avec des symboles."
   ]
  },
  {
   "cell_type": "markdown",
   "metadata": {},
   "source": [
    "1. Créer les  matices suivantes  puis calculer les déterminants.\n",
    "On pourra utiliser factor pour factoriser les déterminants.\n",
    "\n",
    "$A = \\begin{bmatrix}-1-a & 4 & 2\\\\\n",
    "2& 1-a & -1\\\\\n",
    "-2 & 0 & 2-a\n",
    "\\end{bmatrix}\n",
    "\\;\\;\\;\n",
    "B = \\begin{bmatrix}-1 & 3 & a\\\\\n",
    "-2 & 4 & a\\\\\n",
    "2& -2 & -1\n",
    "\\end{bmatrix}\n",
    "\\;\\;\\;et\\;\\;\\;\\; \n",
    "C = \\begin{bmatrix}1 & 1 & 1\\\\\n",
    "1 & a & a\\\\\n",
    "1& 1 & a\n",
    "\\end{bmatrix}\n",
    "$\n"
   ]
  },
  {
   "cell_type": "code",
   "execution_count": 106,
   "metadata": {},
   "outputs": [
    {
     "data": {
      "text/latex": [
       "$\\displaystyle \\left[\\begin{matrix}- a - 1 & 4 & 2\\\\2 & 1 - a & -1\\\\-2 & 0 & 2 - a\\end{matrix}\\right]$"
      ],
      "text/plain": [
       "Matrix([\n",
       "[-a - 1,     4,     2],\n",
       "[     2, 1 - a,    -1],\n",
       "[    -2,     0, 2 - a]])"
      ]
     },
     "execution_count": 106,
     "metadata": {},
     "output_type": "execute_result"
    }
   ],
   "source": [
    "# à compléter\n",
    "a = sp.symbols(\"a\")\n",
    "A=sp.Matrix([[-1-a, 4, 2], [2, 1-a, -1], [-2,0, 2-a]])\n",
    "B=sp.Matrix([[-1,3,a] ,[-2,4,a], [2,-2,-1]])\n",
    "C=sp.Matrix([[1,1,1], [1,a,a], [1,1,a]])\n",
    "\n",
    "\n",
    "A\n"
   ]
  },
  {
   "cell_type": "code",
   "execution_count": 102,
   "metadata": {},
   "outputs": [
    {
     "name": "stdout",
     "output_type": "stream",
     "text": [
      "-a**3 + 2*a**2 + 5*a - 6\n"
     ]
    },
    {
     "data": {
      "text/latex": [
       "$\\displaystyle - \\left(a - 3\\right) \\left(a - 1\\right) \\left(a + 2\\right)$"
      ],
      "text/plain": [
       "-(a - 3)*(a - 1)*(a + 2)"
      ]
     },
     "metadata": {},
     "output_type": "display_data"
    }
   ],
   "source": [
    "# à compléter\n",
    "det_A = sp.det(A)\n",
    "print(det_A)\n",
    "display(det_A.factor())"
   ]
  },
  {
   "cell_type": "code",
   "execution_count": 105,
   "metadata": {},
   "outputs": [
    {
     "data": {
      "text/latex": [
       "$\\displaystyle \\left[\\begin{matrix}-1 & 3 & a\\\\-2 & 4 & a\\\\2 & -2 & -1\\end{matrix}\\right]$"
      ],
      "text/plain": [
       "Matrix([\n",
       "[-1,  3,  a],\n",
       "[-2,  4,  a],\n",
       "[ 2, -2, -1]])"
      ]
     },
     "metadata": {},
     "output_type": "display_data"
    },
    {
     "name": "stdout",
     "output_type": "stream",
     "text": [
      "determinant de la matrice B  -2\n"
     ]
    }
   ],
   "source": [
    "B=sp.Matrix([[-1,3,a],[-2,4,a],[2,-2,-1]])\n",
    "display(B)\n",
    "da=B.det()\n",
    "print(\"determinant de la matrice B \",da)\n",
    "# à compléter"
   ]
  },
  {
   "cell_type": "code",
   "execution_count": 107,
   "metadata": {},
   "outputs": [
    {
     "data": {
      "text/latex": [
       "$\\displaystyle \\left[\\begin{matrix}1 & 1 & 1\\\\1 & a & a\\\\1 & 1 & a\\end{matrix}\\right]$"
      ],
      "text/plain": [
       "Matrix([\n",
       "[1, 1, 1],\n",
       "[1, a, a],\n",
       "[1, 1, a]])"
      ]
     },
     "metadata": {},
     "output_type": "display_data"
    },
    {
     "name": "stdout",
     "output_type": "stream",
     "text": [
      "determinant de la matrice C  a**2 - 2*a + 1\n",
      "determinant de la matrice C  (a - 1)**2\n"
     ]
    }
   ],
   "source": [
    "# à compléter\n",
    "\n",
    "display(C)\n",
    "ca=C.det()\n",
    "print(\"determinant de la matrice C \",ca)\n",
    "print(\"determinant de la matrice C \",ca.factor())"
   ]
  },
  {
   "cell_type": "code",
   "execution_count": 110,
   "metadata": {},
   "outputs": [
    {
     "data": {
      "text/latex": [
       "$\\displaystyle \\left[\\begin{matrix}\\frac{a}{a - 1} & - \\frac{1}{a - 1} & 0\\\\0 & \\frac{1}{a - 1} & - \\frac{1}{a - 1}\\\\- \\frac{1}{a - 1} & 0 & \\frac{1}{a - 1}\\end{matrix}\\right]$"
      ],
      "text/plain": [
       "Matrix([\n",
       "[ a/(a - 1), -1/(a - 1),          0],\n",
       "[         0,  1/(a - 1), -1/(a - 1)],\n",
       "[-1/(a - 1),          0,  1/(a - 1)]])"
      ]
     },
     "metadata": {},
     "output_type": "display_data"
    }
   ],
   "source": [
    "# à compléter\n",
    "display(C.inv())"
   ]
  },
  {
   "cell_type": "markdown",
   "metadata": {},
   "source": [
    "## Résolution de systèmes linéaires"
   ]
  },
  {
   "cell_type": "markdown",
   "metadata": {},
   "source": [
    "- Résoudre le système suivant : (avec une solution)\n",
    "\n",
    "\\begin{cases}\n",
    "2x-3y+z  &=-1 \\\\\n",
    "x-y +2z&=-3\\\\\n",
    "3x+y -z&=9\\\\\n",
    "\\end{cases}\n",
    "\n",
    "\n",
    "Remarque : Avec l’aide de la méthode sp.Matrix().rref() , nous pouvons mettre une matrice sous forme d’échelon de ligne réduit . Matrix().rref() renvoie un tuple de deux éléments. La première est la forme d’échelon de ligne réduite et la seconde est un tuple d’indices des colonnes pivot."
   ]
  },
  {
   "cell_type": "code",
   "execution_count": 115,
   "metadata": {},
   "outputs": [
    {
     "data": {
      "text/latex": [
       "$\\displaystyle \\left[\\begin{matrix}1 & 0 & 0 & \\frac{36}{13}\\\\0 & 1 & 0 & - \\frac{19}{13}\\\\0 & 0 & 1 & - \\frac{28}{13}\\end{matrix}\\right]$"
      ],
      "text/plain": [
       "Matrix([\n",
       "[1, 0, 0,  36/13],\n",
       "[0, 1, 0, -19/13],\n",
       "[0, 0, 1, -28/13]])"
      ]
     },
     "execution_count": 115,
     "metadata": {},
     "output_type": "execute_result"
    }
   ],
   "source": [
    "A = sp.Matrix([[2,3,1,-1], [1,1,2,-3], [3,1,-1, 9]])\n",
    "m, v = sp.Matrix(A).rref()\n",
    "m"
   ]
  },
  {
   "cell_type": "markdown",
   "metadata": {},
   "source": [
    "# Des exercices d'algèbre 2\n",
    "\n",
    "## Exercice A\n",
    "Soit $E$ l'espace vectoriel $\\mathbb{R}^3$ . On considère l'application linéaire $f$ de $E$ dans $E$ dont la matrice dans la base canonique ${\\cal E}$ de $E$ est\n",
    "$$ A = \\left(\\begin{array}{rrr}\n",
    "            1 &0& 2\\\\\n",
    "            0& 1 &0\\\\\n",
    "            2&0 & 1\n",
    "           \\end{array}\\right).\n",
    "$$\n",
    "1. Soit $v$ le vecteur de $E$ de coordonnées $(x, y, z)$ dans la base ${\\cal E}$ . Calculer $f (v)$.\n",
    "2. Calculer le rang de $A$. L'endomorphisme $f$ est-il injectif, surjectif, bijectif?\n",
    "3.  On pose $v_1 = (0, 1, 0)$ , $v_2 = (1, 0,- 1)$ et $v_3 = (1, 0, 1)$. Montrer que ${\\cal V} = (v_1 , v_2 , v_3 )$ est une\n",
    "base de $E$.\n",
    "4.  Calculer $f (v_1 )$ , $f (v_2 )$ et $f (v_3 )$ en fonction des éléments de ${\\cal V}$.\n",
    "5.  Déterminer la matrice $B$ de $f$ dans la base ${\\cal V}$.\n",
    "6.  Ecrire la matrice de passage $P$ de la base ${\\cal E}$ \\`a  la base ${\\cal V}$.\n",
    "7. Calculer $P^{-1}$.\n",
    "8.  Donner la relation qui lie les matrices $A$, $B$, $P$ et $P^{-1}$ . Comment peut -on calculer $A^n$? \n",
    "\n",
    "## Exercice B\n",
    "On considère la matrice $A$ suivante, où $m$ désigne un nombre réel : \n",
    "$$A=\\left(\\begin{array}{ccc}\n",
    "m & (1+m^2) & 2m \\\\\\\\\n",
    "(2-m^2) & m & 1 \\\\\\\\\n",
    "4 & 2m & 4 \n",
    "\\end{array}\n",
    "\\right).$$ \n",
    "\n",
    "1. Montrer que le déterminant de la matrice $A$ est égal à  $2m^2-4$. \n",
    "Pour quelles valeurs du réel $m$, la matrice $A$ est-elle inversible?\n",
    "2. On se place dans le cas où $A$ est inversible. Déterminer la comatrice de $A$ puis la matrice inverse de $A$.\n",
    "3. Soit $f$ l'endomorphisme de $R^3$ dont la matrice associée dans la base canonique de $R^3$ est $A$. Pour quelles valeurs de $m$, l'application $f$ est un isomorphisme de $R^3$ dans $R^3$ ? \n",
    "\n",
    "## Exercice C\n",
    "\n",
    "Pour $m\\in \\mathbb{R}$, on note $A_m = \\begin{pmatrix}\n",
    "3 & 1 & -2 \\\\ 2+m & 2 & -2 \\\\ 4 & 2+m & -3 \\end{pmatrix}$ et $f_m : \\mathbb{R}^3 \\to \\mathbb{R}^3$ l'endomorphisme de $\\mathbb{R}^3$ ayant pour matrice $A_m$ dans la base canonique de $\\mathbb{R}^3$.\n",
    "\n",
    "1. Calculer $\\det(A_{m})$.  \n",
    " Pour quelles valeurs de $m$ a-t-on $f_m$ bijectif ? Injectif ?\n",
    "\n",
    "2. Calculer $\\ker(f_m)$ en distinguant suivant les valeurs de $m$.\n",
    "3. Dans cette question, on s'intéresse à    $A_1$ et $f_1$  (c'est-à-dire qu'on fixe $m=1$ dans la matrice $A_{m}$).\n",
    "\n",
    "a. Calculer $A_1^{-1}$.\n",
    "\n",
    "b. En déduire, pour $(x,y,z)\\in \\mathbb{R}^3$, une expression de $f_1^{-1}(x,y,z)$.\n",
    "\n",
    "\n",
    "4. On fixe maintenant $m=0$ et on note $f=f_0$.\n",
    "\n",
    "a. Donner une base de $\\text{Im}(f)$.\n",
    "\n",
    "b. Montrer que $f$ est la projection sur un sous-espace vectoriel $F$  parallèlement à    un sous-espace vectoriel $G$ (à préciser).\n",
    "\n",
    "c. Donner une base $\\mathcal{B}$ de $\\mathbb{R}^3$ dans laquelle la matrice de $f$ est $D = \\begin{pmatrix} 0 & 0 & 0 \\\\ 0 & 1 & 0 \\\\ 0 & 0 & 1 \\end{pmatrix}.$\n",
    "\n"
   ]
  },
  {
   "cell_type": "markdown",
   "metadata": {},
   "source": [
    "## A l'aide de numpy et sympy,  obtenez un maximum de resultats avec Python !"
   ]
  },
  {
   "cell_type": "code",
   "execution_count": null,
   "metadata": {},
   "outputs": [],
   "source": []
  }
 ],
 "metadata": {
  "kernelspec": {
   "display_name": "Python 3 (ipykernel)",
   "language": "python",
   "name": "python3"
  },
  "language_info": {
   "codemirror_mode": {
    "name": "ipython",
    "version": 3
   },
   "file_extension": ".py",
   "mimetype": "text/x-python",
   "name": "python",
   "nbconvert_exporter": "python",
   "pygments_lexer": "ipython3",
   "version": "3.12.1"
  },
  "latex_envs": {
   "LaTeX_envs_menu_present": false,
   "autoclose": false,
   "autocomplete": false,
   "bibliofile": "biblio.bib",
   "cite_by": "apalike",
   "current_citInitial": 1,
   "eqLabelWithNumbers": false,
   "eqNumInitial": 1,
   "hotkeys": {
    "equation": "Ctrl-E",
    "itemize": "Ctrl-I"
   },
   "labels_anchors": false,
   "latex_user_defs": false,
   "report_style_numbering": false,
   "user_envs_cfg": false
  },
  "toc": {
   "base_numbering": 1,
   "nav_menu": {},
   "number_sections": true,
   "sideBar": true,
   "skip_h1_title": false,
   "title_cell": "Table of Contents",
   "title_sidebar": "Contents",
   "toc_cell": false,
   "toc_position": {
    "height": "calc(100% - 180px)",
    "left": "10px",
    "top": "150px",
    "width": "165px"
   },
   "toc_section_display": true,
   "toc_window_display": true
  }
 },
 "nbformat": 4,
 "nbformat_minor": 2
}
