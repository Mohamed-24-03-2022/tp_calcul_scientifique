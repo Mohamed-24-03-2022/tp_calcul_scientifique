{
 "cells": [
  {
   "cell_type": "markdown",
   "metadata": {
    "deletable": false,
    "run_control": {
     "frozen": true
    }
   },
   "source": [
    "## L1 informatique -- calcul scientifique\n",
    "## TP 2 --   Sympy"
   ]
  },
  {
   "cell_type": "markdown",
   "metadata": {},
   "source": [
    "##  Exercice 1 -- étude de fonctions avec Sympy"
   ]
  },
  {
   "cell_type": "code",
   "execution_count": 236,
   "metadata": {},
   "outputs": [],
   "source": [
    "import sympy as sy"
   ]
  },
  {
   "cell_type": "markdown",
   "metadata": {},
   "source": [
    "1. Au moyen de la librairie `sympy`, définir de manière symbolique la fonction \n",
    "$f(x)=\\frac{(x+4+(3x+5))}{(x+4)^2}$\n",
    "\n",
    "Afficher $f$  . On essayera plusieurs affichages (print, display, sp.pprint )\n",
    "\n",
    "\n",
    "Afficher $f(2)$ puis calculer une valeur approchée de $f(2)$.\n",
    "\n"
   ]
  },
  {
   "cell_type": "code",
   "execution_count": 237,
   "metadata": {},
   "outputs": [
    {
     "name": "stdout",
     "output_type": "stream",
     "text": [
      "Lambda(x, (4*x + 9)/(x + 4)**2)\n",
      "    4⋅x + 9 \n",
      "x ↦ ────────\n",
      "           2\n",
      "    (x + 4) \n"
     ]
    },
    {
     "data": {
      "image/png": "[encoded data removed]",
      "text/latex": [
       "$\\displaystyle \\left( x \\mapsto \\frac{4 x + 9}{\\left(x + 4\\right)^{2}} \\right)$"
      ],
      "text/plain": [
       "    4⋅x + 9 \n",
       "x ↦ ────────\n",
       "           2\n",
       "    (x + 4) "
      ]
     },
     "metadata": {},
     "output_type": "display_data"
    },
    {
     "data": {
      "image/png": "[encoded data removed]",
      "text/latex": [
       "$\\displaystyle \\frac{17}{36}$"
      ],
      "text/plain": [
       "17\n",
       "──\n",
       "36"
      ]
     },
     "metadata": {},
     "output_type": "display_data"
    },
    {
     "data": {
      "image/png": "[encoded data removed]",
      "text/latex": [
       "$\\displaystyle \\frac{17}{36}$"
      ],
      "text/plain": [
       "17\n",
       "──\n",
       "36"
      ]
     },
     "execution_count": 237,
     "metadata": {},
     "output_type": "execute_result"
    }
   ],
   "source": [
    "# A compléter ...\n",
    "# ...\n",
    "x = sy.symbols('x')\n",
    "f_expr = (x + 4 +(3*x + 5)) / ((x+4)**2)\n",
    "f = sy.Lambda([x], f_expr)\n",
    "print(f)\n",
    "sy.pprint(f)\n",
    "display(f)\n",
    "\n",
    "display(f(2))\n",
    "sy.limit(f(x), x, 2)\n"
   ]
  },
  {
   "cell_type": "markdown",
   "metadata": {},
   "source": [
    "<hr/>\n",
    "2a. Calculez la dérivée de f(x).\n"
   ]
  },
  {
   "cell_type": "code",
   "execution_count": 238,
   "metadata": {},
   "outputs": [
    {
     "data": {
      "image/png": "[encoded data removed]",
      "text/latex": [
       "$\\displaystyle \\frac{4}{\\left(x + 4\\right)^{2}} - \\frac{2 \\cdot \\left(4 x + 9\\right)}{\\left(x + 4\\right)^{3}}$"
      ],
      "text/plain": [
       "   4       2⋅(4⋅x + 9)\n",
       "──────── - ───────────\n",
       "       2            3 \n",
       "(x + 4)      (x + 4)  "
      ]
     },
     "metadata": {},
     "output_type": "display_data"
    }
   ],
   "source": [
    "# A compléter ...\n",
    "# ...\n",
    "f_derivee = sy.diff(f(x), x)\n",
    "display(f_derivee)"
   ]
  },
  {
   "cell_type": "markdown",
   "metadata": {},
   "source": [
    "<hr/>\n",
    "2b. Calculer les zéros de la dérivée."
   ]
  },
  {
   "cell_type": "code",
   "execution_count": 239,
   "metadata": {},
   "outputs": [
    {
     "data": {
      "image/png": "[encoded data removed]",
      "text/latex": [
       "$\\displaystyle \\left[ - \\frac{1}{2}\\right]$"
      ],
      "text/plain": [
       "[-1/2]"
      ]
     },
     "execution_count": 239,
     "metadata": {},
     "output_type": "execute_result"
    }
   ],
   "source": [
    "# A compléter ...\n",
    "# ...\n",
    "e = sy.Eq(f_derivee, 0)\n",
    "sy.solve(e, x)"
   ]
  },
  {
   "cell_type": "markdown",
   "metadata": {},
   "source": [
    "<hr/>\n",
    "2c. Exprimer la dérivée sous forme factorisée (fonction factor) pour vérifier ses zéros. "
   ]
  },
  {
   "cell_type": "code",
   "execution_count": 240,
   "metadata": {},
   "outputs": [
    {
     "data": {
      "image/png": "[encoded data removed]",
      "text/latex": [
       "$\\displaystyle - \\frac{2 \\cdot \\left(2 x + 1\\right)}{\\left(x + 4\\right)^{3}}$"
      ],
      "text/plain": [
       "-2⋅(2⋅x + 1) \n",
       "─────────────\n",
       "          3  \n",
       "   (x + 4)   "
      ]
     },
     "execution_count": 240,
     "metadata": {},
     "output_type": "execute_result"
    }
   ],
   "source": [
    "# A compléter ...\n",
    "# ...\n",
    "sy.factor(f_derivee)\n"
   ]
  },
  {
   "cell_type": "markdown",
   "metadata": {},
   "source": [
    "<hr/>\n",
    "3. Calculer les limites de f(x) quand $x \\to -\\infty$, $x \\to +\\infty$, $x \\to 2$,$x \\to -4$"
   ]
  },
  {
   "cell_type": "code",
   "execution_count": 241,
   "metadata": {
    "scrolled": true
   },
   "outputs": [
    {
     "data": {
      "image/png": "[encoded data removed]",
      "text/latex": [
       "$\\displaystyle 0$"
      ],
      "text/plain": [
       "0"
      ]
     },
     "metadata": {},
     "output_type": "display_data"
    },
    {
     "data": {
      "image/png": "[encoded data removed]",
      "text/latex": [
       "$\\displaystyle 0$"
      ],
      "text/plain": [
       "0"
      ]
     },
     "metadata": {},
     "output_type": "display_data"
    },
    {
     "data": {
      "image/png": "[encoded data removed]",
      "text/latex": [
       "$\\displaystyle \\frac{17}{36}$"
      ],
      "text/plain": [
       "17\n",
       "──\n",
       "36"
      ]
     },
     "metadata": {},
     "output_type": "display_data"
    },
    {
     "data": {
      "image/png": "[encoded data removed]",
      "text/latex": [
       "$\\displaystyle -\\infty$"
      ],
      "text/plain": [
       "-∞"
      ]
     },
     "metadata": {},
     "output_type": "display_data"
    }
   ],
   "source": [
    "# A compléter ...\n",
    "# ...\n",
    "\n",
    "display(sy.limit(f(x), x, -(sy.oo)))\n",
    "display(sy.limit(f(x), x, sy.oo))\n",
    "display(sy.limit(f(x), x, 2))\n",
    "display(sy.limit(f(x), x, -4))"
   ]
  },
  {
   "cell_type": "markdown",
   "metadata": {},
   "source": [
    "<hr/>\n",
    "4a. Tracer la courbe représentative de f "
   ]
  },
  {
   "cell_type": "code",
   "execution_count": 242,
   "metadata": {},
   "outputs": [
    {
     "data": {
      "image/png": "[encoded data removed]",
      "text/plain": [
       "<Figure size 640x480 with 1 Axes>"
      ]
     },
     "metadata": {},
     "output_type": "display_data"
    },
    {
     "data": {
      "text/plain": [
       "<sympy.plotting.plot.Plot at 0x2548b5aec00>"
      ]
     },
     "execution_count": 242,
     "metadata": {},
     "output_type": "execute_result"
    }
   ],
   "source": [
    "# A compléter ...\n",
    "# ...\n",
    "sy.plot(f(x))"
   ]
  },
  {
   "cell_type": "markdown",
   "metadata": {},
   "source": [
    "<hr/>\n",
    "4b.Modifier la commande pour ne tracer la courbe que pour y compris entre -6 et +2 en utilisant l’option ylim\n",
    "\n",
    "On écrira ylim=(a,b) à l'intérieur du plot.\n",
    "\n",
    "    "
   ]
  },
  {
   "cell_type": "code",
   "execution_count": 243,
   "metadata": {},
   "outputs": [
    {
     "data": {
      "image/png": "[encoded data removed]",
      "text/plain": [
       "<Figure size 640x480 with 1 Axes>"
      ]
     },
     "metadata": {},
     "output_type": "display_data"
    },
    {
     "data": {
      "text/plain": [
       "<sympy.plotting.plot.Plot at 0x254a5a909b0>"
      ]
     },
     "execution_count": 243,
     "metadata": {},
     "output_type": "execute_result"
    }
   ],
   "source": [
    "# A compléter ...\n",
    "# ...\n",
    "\n",
    "sy.plot(f(x), ylim=(-6, 2))"
   ]
  },
  {
   "cell_type": "markdown",
   "metadata": {},
   "source": [
    "<hr/>\n",
    "4c.Limiter cette fois le dessin aux abscisses comprises entre -2.5 et 5"
   ]
  },
  {
   "cell_type": "code",
   "execution_count": 244,
   "metadata": {},
   "outputs": [
    {
     "data": {
      "image/png": "[encoded data removed]",
      "text/plain": [
       "<Figure size 640x480 with 1 Axes>"
      ]
     },
     "metadata": {},
     "output_type": "display_data"
    },
    {
     "data": {
      "text/plain": [
       "<sympy.plotting.plot.Plot at 0x254a91422d0>"
      ]
     },
     "execution_count": 244,
     "metadata": {},
     "output_type": "execute_result"
    }
   ],
   "source": [
    "# A compléter ...\n",
    "# ...\n",
    "sy.plot(f(x), (x, -2.5, 5))"
   ]
  },
  {
   "cell_type": "markdown",
   "metadata": {},
   "source": [
    "## Exercice 2"
   ]
  },
  {
   "cell_type": "markdown",
   "metadata": {},
   "source": [
    "1) On considère les fonctions définies par:\n",
    "\n",
    "$f_{a,b,c,d}(x)= -0.05*(ax^3 + bx^2 + cx + d)$  où a,b,c,d seront des paramètres qu'on pourra faire varier.\n",
    "\n",
    "Définir $f_{a,b,c,d}$ à l'aide de sympy "
   ]
  },
  {
   "cell_type": "code",
   "execution_count": 245,
   "metadata": {},
   "outputs": [
    {
     "data": {
      "image/png": "[encoded data removed]",
      "text/latex": [
       "$\\displaystyle - 0.05 a x^{3} - 0.05 b x^{2} - 0.05 c x - 0.05 d$"
      ],
      "text/plain": [
       "          3           2                    \n",
       "- 0.05⋅a⋅x  - 0.05⋅b⋅x  - 0.05⋅c⋅x - 0.05⋅d"
      ]
     },
     "metadata": {},
     "output_type": "display_data"
    },
    {
     "data": {
      "image/png": "[encoded data removed]",
      "text/latex": [
       "$\\displaystyle - 0.05 \\left(a x^{3} + b x^{2} + c x + d\\right)$"
      ],
      "text/plain": [
       "      ⎛   3      2          ⎞\n",
       "-0.05⋅⎝a⋅x  + b⋅x  + c⋅x + d⎠"
      ]
     },
     "metadata": {},
     "output_type": "display_data"
    }
   ],
   "source": [
    "import warnings\n",
    "warnings.filterwarnings('ignore') # pour ne pas afficher les warnings\n",
    "from IPython.display import display, Math\n",
    "from sympy import latex\n",
    "\n",
    "sp.init_printing()\n",
    "\n",
    "# Déclarer les symboles x, a, b, c et d\n",
    "# ...\n",
    "x, a, b, c, d = sp.symbols('x,a,b,c,d')\n",
    "# Déclarer la fonction fab\n",
    "# ...\n",
    "fab = sp.Lambda([x], -0.05*(a*x**3 + b*x**2 + c*x + d))\n",
    "\n",
    "# Afficher la fonction fab\n",
    "# ...\n",
    "display(fab(x))\n",
    "display(sp.factor(fab(x)))\n"
   ]
  },
  {
   "cell_type": "markdown",
   "metadata": {},
   "source": [
    "<hr/> \n",
    "\n",
    "2) Calculer la limite limite de $f_{a,b,c,d}(x)$ quand x tend vers +infini avec `sympy`  "
   ]
  },
  {
   "cell_type": "code",
   "execution_count": 246,
   "metadata": {},
   "outputs": [
    {
     "data": {
      "image/png": "[encoded data removed]",
      "text/latex": [
       "$\\displaystyle - \\infty \\operatorname{sign}{\\left(a \\right)}$"
      ],
      "text/plain": [
       "-∞⋅sign(a)"
      ]
     },
     "execution_count": 246,
     "metadata": {},
     "output_type": "execute_result"
    }
   ],
   "source": [
    "# A compléter ...\n",
    "# ...\n",
    "sp.limit(fab(x), x, sp.oo)"
   ]
  },
  {
   "cell_type": "markdown",
   "metadata": {},
   "source": [
    "<hr/> \n",
    "\n",
    "3) Calculer la dérivée de $f_{a,b,c,d}$.\n"
   ]
  },
  {
   "cell_type": "code",
   "execution_count": 247,
   "metadata": {},
   "outputs": [
    {
     "data": {
      "image/png": "[encoded data removed]",
      "text/latex": [
       "$\\displaystyle - 0.15 a x^{2} - 0.1 b x - 0.05 c$"
      ],
      "text/plain": [
       "          2                   \n",
       "- 0.15⋅a⋅x  - 0.1⋅b⋅x - 0.05⋅c"
      ]
     },
     "execution_count": 247,
     "metadata": {},
     "output_type": "execute_result"
    }
   ],
   "source": [
    "# A compléter ...\n",
    "# ...\n",
    "sp.diff(fab(x), x)"
   ]
  },
  {
   "cell_type": "markdown",
   "metadata": {},
   "source": [
    "<hr/> \n",
    "4) On s'intéresse à $h=f_{6,5,-1,-1}$ et $g=f_{-2,5,3,0}$\n",
    "\n",
    "Ecrire les expressions correspondantes.\n",
    "\n",
    "Tracer avec `sympy`, pour $x\\in[-3,3]$,  le graphe des fonctions $h$ et $g$ , sur le même graphique et avec légende comme ci-dessous."
   ]
  },
  {
   "cell_type": "code",
   "execution_count": 248,
   "metadata": {},
   "outputs": [
    {
     "data": {
      "image/png": "[encoded data removed]",
      "text/latex": [
       "$\\displaystyle \\left( x \\mapsto - 0.3 x^{3} - 0.25 x^{2} + 0.05 x + 0.05 \\right)$"
      ],
      "text/plain": [
       "           3         2                \n",
       "x ↦ - 0.3⋅x  - 0.25⋅x  + 0.05⋅x + 0.05"
      ]
     },
     "metadata": {},
     "output_type": "display_data"
    },
    {
     "data": {
      "image/png": "[encoded data removed]",
      "text/latex": [
       "$\\displaystyle \\left( x \\mapsto 0.1 x^{3} - 0.25 x^{2} - 0.15 x \\right)$"
      ],
      "text/plain": [
       "         3         2         \n",
       "x ↦ 0.1⋅x  - 0.25⋅x  - 0.15⋅x"
      ]
     },
     "metadata": {},
     "output_type": "display_data"
    },
    {
     "data": {
      "image/png": "[encoded data removed]",
      "text/plain": [
       "<Figure size 640x480 with 1 Axes>"
      ]
     },
     "metadata": {},
     "output_type": "display_data"
    }
   ],
   "source": [
    "# A compléter ...\n",
    "# ...\n",
    "\n",
    "h = fab.subs({a: 6,b:5, c:-1, d:-1})\n",
    "display(h)\n",
    "\n",
    "\n",
    "g = fab.subs({a:-2, b:5, c:3, d:0})\n",
    "display(g)\n",
    "\n",
    "p = sp.plot(h(x), g(x), (x, -3, 3), show=False)\n",
    "p[0].line_color = 'b'\n",
    "p[1].line_color = 'r'\n",
    "p.show()"
   ]
  },
  {
   "cell_type": "markdown",
   "metadata": {},
   "source": [
    "<hr/> \n",
    "\n",
    "5) à L'aide de la dérivée, déterminer les abscisses des points extremums de h"
   ]
  },
  {
   "cell_type": "code",
   "execution_count": 249,
   "metadata": {},
   "outputs": [
    {
     "data": {
      "image/png": "[encoded data removed]",
      "text/latex": [
       "$\\displaystyle - 0.9 x^{2} - 0.5 x + 0.05 = 0$"
      ],
      "text/plain": [
       "       2                   \n",
       "- 0.9⋅x  - 0.5⋅x + 0.05 = 0"
      ]
     },
     "metadata": {},
     "output_type": "display_data"
    },
    {
     "data": {
      "image/png": "[encoded data removed]",
      "text/latex": [
       "$\\displaystyle \\left[ -0.642079918016778, \\  0.0865243624612223\\right]$"
      ],
      "text/plain": [
       "[-0.642079918016778, 0.0865243624612223]"
      ]
     },
     "execution_count": 249,
     "metadata": {},
     "output_type": "execute_result"
    }
   ],
   "source": [
    "# A compléter ...\n",
    "# ...\n",
    "h_derivee = sp.diff(h(x), x)\n",
    "eh = sp.Eq(h_derivee, 0)\n",
    "display(eh)\n",
    "sp.solve(eh, x)"
   ]
  },
  {
   "cell_type": "markdown",
   "metadata": {},
   "source": [
    "<hr/> \n",
    "\n",
    "6) Vu le dessin, on voudrait mieux observer ce qui se passe entre -1 et 1. Refaire le shéma."
   ]
  },
  {
   "cell_type": "code",
   "execution_count": 263,
   "metadata": {},
   "outputs": [
    {
     "data": {
      "image/png": "[encoded data removed]",
      "text/plain": [
       "<Figure size 640x480 with 1 Axes>"
      ]
     },
     "metadata": {},
     "output_type": "display_data"
    }
   ],
   "source": [
    "# A compléter ...\n",
    "# ...\n",
    "p.xlim = (-1, 1)\n",
    "p.ylim = (-0.4, 0.1)\n",
    "p.show()"
   ]
  },
  {
   "cell_type": "markdown",
   "metadata": {},
   "source": [
    "<hr/> \n",
    "\n",
    "\n",
    "7) Déterminer avec sympy les abscisses des points d'intersection de $h$ et de $g$. "
   ]
  },
  {
   "cell_type": "code",
   "execution_count": 265,
   "metadata": {},
   "outputs": [
    {
     "data": {
      "image/png": "[encoded data removed]",
      "text/latex": [
       "$\\displaystyle \\left[ -0.5, \\  -0.309016994374947, \\  0.809016994374947\\right]$"
      ],
      "text/plain": [
       "[-0.5, -0.309016994374947, 0.809016994374947]"
      ]
     },
     "execution_count": 265,
     "metadata": {},
     "output_type": "execute_result"
    }
   ],
   "source": [
    "# A compléter ...\n",
    "# ...\n",
    "heg = sp.Eq(h(x), g(x))\n",
    "heg_solutions = sp.solve(heg, x)"
   ]
  },
  {
   "cell_type": "markdown",
   "metadata": {},
   "source": [
    "<hr/> \n",
    "\n",
    "\n",
    "8) On appellera x1 et x2 les deux abscisses des points d'intersection de h et g les plus grandes (les deux dernières).\n",
    "\n",
    "Déterminer l'aire comprise entre les deux courbes pour x variant entre x1 et x2."
   ]
  },
  {
   "cell_type": "code",
   "execution_count": 266,
   "metadata": {},
   "outputs": [
    {
     "ename": "NameError",
     "evalue": "name 'heg_solutions' is not defined",
     "output_type": "error",
     "traceback": [
      "\u001b[1;31m---------------------------------------------------------------------------\u001b[0m",
      "\u001b[1;31mNameError\u001b[0m                                 Traceback (most recent call last)",
      "Cell \u001b[1;32mIn[266], line 3\u001b[0m\n\u001b[0;32m      1\u001b[0m \u001b[38;5;66;03m# A compléter ...\u001b[39;00m\n\u001b[0;32m      2\u001b[0m \u001b[38;5;66;03m# ...\u001b[39;00m\n\u001b[1;32m----> 3\u001b[0m x1 \u001b[38;5;241m=\u001b[39m \u001b[43mheg_solutions\u001b[49m[\u001b[38;5;241m2\u001b[39m]\n\u001b[0;32m      4\u001b[0m x2 \u001b[38;5;241m=\u001b[39m heg_solutions[\u001b[38;5;241m1\u001b[39m]\n\u001b[0;32m      6\u001b[0m sp\u001b[38;5;241m.\u001b[39mintegrate( (h(x) \u001b[38;5;241m-\u001b[39m g(x)), (x, x1, x2) )\n",
      "\u001b[1;31mNameError\u001b[0m: name 'heg_solutions' is not defined"
     ]
    }
   ],
   "source": [
    "# A compléter ...\n",
    "# ...\n",
    "x1 = heg_solutions[2]\n",
    "x2 = heg_solutions[1]\n",
    "\n",
    "sp.integrate( (h(x) - g(x)), (x, x1, x2) )"
   ]
  },
  {
   "cell_type": "markdown",
   "metadata": {},
   "source": [
    "## Exercice 3 :  logique\n",
    "Les valeurs Booléennes qui représentent le vrai et le faux sont True et False. Les opérations logiques\n",
    "utilisées sont :  \n",
    "- AND    : a & b\n",
    "- OR  :  a | b\n",
    "- NOT   : ~a\n",
    "- OR : a ^ b\n",
    "- => : a >> b"
   ]
  },
  {
   "cell_type": "markdown",
   "metadata": {},
   "source": [
    "1) Représentez la fonction :  f = (x ∧ y) ∨ (y ∧ z) ∨ (z ∧ x) où x,y et z sont des symboles"
   ]
  },
  {
   "cell_type": "code",
   "execution_count": 253,
   "metadata": {},
   "outputs": [],
   "source": [
    "# A compléter ...\n",
    "# ...\n",
    "\n"
   ]
  },
  {
   "cell_type": "markdown",
   "metadata": {},
   "source": [
    "2) Que vaut f quand x et y sont vrai, et z faux?\n",
    "\n",
    "Et quand x est vrai, y et z sont faux?\n",
    "\n"
   ]
  },
  {
   "cell_type": "code",
   "execution_count": 254,
   "metadata": {},
   "outputs": [],
   "source": [
    "# A compléter ...\n",
    "# f quand  x est vrai, y et z sont faux?\n",
    "# ...\n"
   ]
  },
  {
   "cell_type": "code",
   "execution_count": 255,
   "metadata": {},
   "outputs": [],
   "source": [
    "# A compléter ...\n",
    "# f quand x et y sont vrai, et z faux?\n",
    "# ..."
   ]
  },
  {
   "cell_type": "markdown",
   "metadata": {},
   "source": [
    "3) On peut aussi mélanger valuation et variables: Que sera le résultat de $f$ si on substitue FAUX à la variable y ?"
   ]
  },
  {
   "cell_type": "code",
   "execution_count": 256,
   "metadata": {},
   "outputs": [],
   "source": [
    "# A compléter ...\n",
    "# ..."
   ]
  },
  {
   "cell_type": "markdown",
   "metadata": {},
   "source": [
    "5) Simplifier l'expression logique suivante :\n",
    "\n",
    "\n",
    "$$(A ∨ B)∧ (A ∨ \\neg B)∧ (\\neg A ∨ B) $$\n",
    "\n"
   ]
  },
  {
   "cell_type": "code",
   "execution_count": 257,
   "metadata": {},
   "outputs": [],
   "source": [
    "# A compléter ...\n",
    "# ...\n",
    "\n"
   ]
  },
  {
   "cell_type": "markdown",
   "metadata": {},
   "source": [
    "6) Vérifier sur toutes les possibilités que le résultat est correct (on écrira une boucle!)"
   ]
  },
  {
   "cell_type": "code",
   "execution_count": 258,
   "metadata": {},
   "outputs": [],
   "source": [
    "# A compléter ...\n",
    "# ..."
   ]
  },
  {
   "cell_type": "markdown",
   "metadata": {},
   "source": [
    "Mise sous forme normale: toute expression peut être mise sous forme normale\n",
    "- d'une conjonction de disjonctions (FN conjonctive)\n",
    "- d'une disjonction de conjonctions (FN disjonctive)\n",
    "\n",
    "Pour trouver la FN conjonctive (resp. disjonctive) de , on fait appel à la fonction to_cnf (resp.\n",
    "to_dnf ) de sympy"
   ]
  },
  {
   "cell_type": "markdown",
   "metadata": {},
   "source": [
    "7) Définir la fonction f : $ \\neg ( z \\to x)\\wedge (x \\vee y)$\n"
   ]
  },
  {
   "cell_type": "code",
   "execution_count": 259,
   "metadata": {},
   "outputs": [
    {
     "name": "stdout",
     "output_type": "stream",
     "text": [
      "Avec print\n",
      "Lambda(x, (4*x + 9)/(x + 4)**2)\n",
      "Avec display\n"
     ]
    },
    {
     "data": {
      "image/png": "[encoded data removed]",
      "text/latex": [
       "$\\displaystyle \\left( x \\mapsto \\frac{4 x + 9}{\\left(x + 4\\right)^{2}} \\right)$"
      ],
      "text/plain": [
       "    4⋅x + 9 \n",
       "x ↦ ────────\n",
       "           2\n",
       "    (x + 4) "
      ]
     },
     "metadata": {},
     "output_type": "display_data"
    }
   ],
   "source": [
    "# A compléter ...\n",
    "# ...\n",
    "\n",
    "print(\"Avec print\")\n",
    "print(f)\n",
    "print(\"Avec display\")\n",
    "display(f)"
   ]
  },
  {
   "cell_type": "code",
   "execution_count": 260,
   "metadata": {},
   "outputs": [],
   "source": [
    "# A compléter ...\n",
    "# ...\n",
    "\n"
   ]
  },
  {
   "cell_type": "code",
   "execution_count": 261,
   "metadata": {},
   "outputs": [],
   "source": [
    "# A compléter ...\n",
    "# ...\n",
    "\n"
   ]
  },
  {
   "cell_type": "markdown",
   "metadata": {},
   "source": [
    "8) Simplifier f"
   ]
  },
  {
   "cell_type": "code",
   "execution_count": 262,
   "metadata": {},
   "outputs": [],
   "source": [
    "# A compléter ...\n",
    "# ...\n"
   ]
  }
 ],
 "metadata": {
  "celltoolbar": "Format de la Cellule Texte Brut",
  "kernelspec": {
   "display_name": "Python 3 (ipykernel)",
   "language": "python",
   "name": "python3"
  },
  "language_info": {
   "codemirror_mode": {
    "name": "ipython",
    "version": 3
   },
   "file_extension": ".py",
   "mimetype": "text/x-python",
   "name": "python",
   "nbconvert_exporter": "python",
   "pygments_lexer": "ipython3",
   "version": "3.12.1"
  },
  "latex_envs": {
   "LaTeX_envs_menu_present": true,
   "autoclose": true,
   "autocomplete": true,
   "bibliofile": "biblio.bib",
   "cite_by": "apalike",
   "current_citInitial": 1,
   "eqLabelWithNumbers": true,
   "eqNumInitial": 1,
   "hotkeys": {
    "equation": "Ctrl-E",
    "itemize": "Ctrl-I"
   },
   "labels_anchors": true,
   "latex_user_defs": true,
   "report_style_numbering": true,
   "user_envs_cfg": true
  },
  "nb.metadata.authors": {
   "name": "Youssef CHAHIR"
  },
  "toc": {
   "base_numbering": 1,
   "nav_menu": {
    "height": "211px",
    "width": "339px"
   },
   "number_sections": false,
   "sideBar": true,
   "skip_h1_title": false,
   "title_cell": "Table of Contents",
   "title_sidebar": "Contents",
   "toc_cell": false,
   "toc_position": {},
   "toc_section_display": true,
   "toc_window_display": false
  },
  "varInspector": {
   "cols": {
    "lenName": 16,
    "lenType": 16,
    "lenVar": 40
   },
   "kernels_config": {
    "python": {
     "delete_cmd_postfix": "",
     "delete_cmd_prefix": "del ",
     "library": "var_list.py",
     "varRefreshCmd": "print(var_dic_list())"
    },
    "r": {
     "delete_cmd_postfix": ") ",
     "delete_cmd_prefix": "rm(",
     "library": "var_list.r",
     "varRefreshCmd": "cat(var_dic_list()) "
    }
   },
   "types_to_exclude": [
    "module",
    "function",
    "builtin_function_or_method",
    "instance",
    "_Feature"
   ],
   "window_display": false
  }
 },
 "nbformat": 4,
 "nbformat_minor": 4
}
