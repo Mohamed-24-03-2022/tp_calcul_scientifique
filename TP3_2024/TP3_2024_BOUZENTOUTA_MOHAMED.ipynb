{
 "cells": [
  {
   "cell_type": "markdown",
   "metadata": {},
   "source": [
    " # Calcul scientifique -- TP3 -- `numpy`"
   ]
  },
  {
   "cell_type": "markdown",
   "metadata": {},
   "source": [
    "**Nom :** &nbsp;&nbsp;&nbsp;&nbsp;   &nbsp;&ensp; &emsp;    \n",
    "**Prénom:** &emsp;&emsp;  "
   ]
  },
  {
   "cell_type": "markdown",
   "metadata": {},
   "source": [
    "Attention: pour ce TP il s'agit d'utiliser numpy et ses fonctionnalités donc pas de bricoler avec des listes et des boucles.\n",
    "\n",
    "**Il n'y aura pas de boucles dans ce TP**"
   ]
  },
  {
   "cell_type": "markdown",
   "metadata": {},
   "source": [
    "### 1) Création de tableaux"
   ]
  },
  {
   "cell_type": "markdown",
   "metadata": {},
   "source": [
    "Pour commencer, on importe la librairie  `numpy`"
   ]
  },
  {
   "cell_type": "code",
   "execution_count": 233,
   "metadata": {},
   "outputs": [],
   "source": [
    "import numpy as np"
   ]
  },
  {
   "cell_type": "markdown",
   "metadata": {},
   "source": [
    "Créer une variable numpy de type `array`, nommée `a` contenant les valeurs de 1 à 20 des 3 manières  différentes :\n",
    "\n",
    "- a1: à partir d'un tableau python  t = [1,2,3,4,5,6,7,8,9,10,11,12,13,14,15,16,17,18,19,20]\n",
    "- a2: en utilisant la fonction arange de numpy\n",
    "- a3: en utilisant la fonction linspace de numpy\n",
    "\n",
    "puis afficher le contenu et le type de `a1,a2,a3` pour les 3 méthodes. On doit obtenir le même tableau qu'on appellera ensuite a pour continuer l'exercice.\n"
   ]
  },
  {
   "cell_type": "code",
   "execution_count": 234,
   "metadata": {},
   "outputs": [
    {
     "name": "stdout",
     "output_type": "stream",
     "text": [
      "a1: [ 1  2  3  4  5  6  7  8  9 10 11 12 13 14 15 16 17 18 19 20] type : <class 'numpy.ndarray'>\n",
      "a2: [ 1  2  3  4  5  6  7  8  9 10 11 12 13 14 15 16 17 18 19 20] type : <class 'numpy.ndarray'>\n",
      "a3: [ 1.  2.  3.  4.  5.  6.  7.  8.  9. 10. 11. 12. 13. 14. 15. 16. 17. 18.\n",
      " 19. 20.] type : <class 'numpy.ndarray'>\n",
      "20\n"
     ]
    }
   ],
   "source": [
    "t = [1,2,3,4,5,6,7,8,9,10,11,12,13,14,15,16,17,18,19,20]\n",
    "# à compléter\n",
    "a1 = np.array(t)\n",
    "\n",
    "# la matrice identité d’ordre n\n",
    "print('a1:',a1,'type :',type(a1))\n",
    "\n",
    "# à compléter\n",
    "a2 = np.arange(1, 21, 1)\n",
    "print('a2:',a2,'type :',type(a2))\n",
    "\n",
    "# à compléter\n",
    "a3 = np.linspace(1, 20, 20)\n",
    "print('a3:',a3,'type :',type(a3))\n",
    "print(a3.size)"
   ]
  },
  {
   "cell_type": "code",
   "execution_count": 235,
   "metadata": {},
   "outputs": [
    {
     "data": {
      "text/plain": [
       "array([ 2,  4,  6,  8, 10, 12, 14, 16, 18, 20, 22, 24, 26, 28, 30, 32, 34,\n",
       "       36, 38, 40])"
      ]
     },
     "metadata": {},
     "output_type": "display_data"
    }
   ],
   "source": [
    "ez = np.add(a1, a2)\n",
    "display(ez)"
   ]
  },
  {
   "cell_type": "code",
   "execution_count": 236,
   "metadata": {},
   "outputs": [],
   "source": [
    "# help(np.linspace)"
   ]
  },
  {
   "cell_type": "markdown",
   "metadata": {},
   "source": [
    "Calculer puis afficher la somme des valeurs (en une ligne sans faire de boucles) :"
   ]
  },
  {
   "cell_type": "code",
   "execution_count": 237,
   "metadata": {},
   "outputs": [
    {
     "data": {
      "text/plain": [
       "210"
      ]
     },
     "execution_count": 237,
     "metadata": {},
     "output_type": "execute_result"
    }
   ],
   "source": [
    "# à compléter\n",
    "np.sum(t)"
   ]
  },
  {
   "cell_type": "markdown",
   "metadata": {},
   "source": [
    "Créer un tableau de taille 20 qu'on appellera b qui contient  20 nombres aléatoires compris entre 1 et 9 inclus.\n",
    "On utilisera pour cela la fonction `np.random.randint` du module numpy."
   ]
  },
  {
   "cell_type": "code",
   "execution_count": 238,
   "metadata": {},
   "outputs": [
    {
     "data": {
      "text/plain": [
       "array([8, 6, 6, 3, 7, 4, 3, 9, 6, 5, 8, 7, 8, 1, 2, 2, 5, 3, 9, 3])"
      ]
     },
     "metadata": {},
     "output_type": "display_data"
    }
   ],
   "source": [
    "# à compléter\n",
    "b = np.random.randint(1, 10, size=20)\n",
    "# b = np.random.randint(1, 10, size=(2,3))\n",
    "display(b)"
   ]
  },
  {
   "cell_type": "code",
   "execution_count": 239,
   "metadata": {},
   "outputs": [],
   "source": [
    "# help(np.random.randint)"
   ]
  },
  {
   "cell_type": "markdown",
   "metadata": {},
   "source": [
    "Afficher les dimensions de l' `array` `a`, le nombre de valeurs selon chaque dimension (shape) ainsi que sa taille (nombre de valeurs) :"
   ]
  },
  {
   "cell_type": "code",
   "execution_count": 240,
   "metadata": {
    "scrolled": true
   },
   "outputs": [
    {
     "name": "stdout",
     "output_type": "stream",
     "text": [
      "ndim=  1 shape=  (20,) size=  20\n"
     ]
    }
   ],
   "source": [
    "# à compléter\n",
    "\n",
    "print('ndim= ', a1.ndim,     'shape= ', a1.shape,     'size= ', a1.size)"
   ]
  },
  {
   "cell_type": "markdown",
   "metadata": {},
   "source": [
    "En utilisant uniquement les opérateurs +, / et l'opérateur de tri de numpy (`np.sort()`) et la fonction np.sum(), calculer la moyenne ,  la mediane de `b`,ainsi que les valeurs min et max du tableau. (Ne pas utiliser de boucle)."
   ]
  },
  {
   "cell_type": "code",
   "execution_count": 241,
   "metadata": {},
   "outputs": [
    {
     "data": {
      "text/plain": [
       "array([1, 2, 2, 3, 3, 3, 3, 4, 5, 5, 6, 6, 6, 7, 7, 8, 8, 8, 9, 9])"
      ]
     },
     "metadata": {},
     "output_type": "display_data"
    },
    {
     "name": "stdout",
     "output_type": "stream",
     "text": [
      "moyenne : 5.25 mediane : 6\n",
      "val max : 9 val min 1\n"
     ]
    }
   ],
   "source": [
    "# à compléter\n",
    "b_sorted = np.sort(b)\n",
    "\n",
    "display(b_sorted)\n",
    "\n",
    "b_moyen = np.sum(b) / b.size\n",
    "b_mediane = b_sorted[(b.size // 2 )+ 1]\n",
    "\n",
    "print('moyenne :', b_moyen, 'mediane :', b_mediane)\n",
    "\n",
    "print('val max :', b_sorted[b.size - 1], 'val min', b_sorted[0])"
   ]
  },
  {
   "cell_type": "markdown",
   "metadata": {},
   "source": [
    "Vérifier vos calculs en utilisant les fonctions numpy existantes."
   ]
  },
  {
   "cell_type": "code",
   "execution_count": 242,
   "metadata": {},
   "outputs": [
    {
     "name": "stdout",
     "output_type": "stream",
     "text": [
      "moyenne : 5.25 mediane : 5.5\n",
      "val max : 9 val min 1\n"
     ]
    }
   ],
   "source": [
    "# à compléter\n",
    "\n",
    "# np.mean() == np.average()\n",
    "\n",
    "print('moyenne :', np.mean(b), 'mediane :', np.median(b))\n",
    "\n",
    "print('val max :', np.max(b), 'val min', np.min(b))"
   ]
  },
  {
   "cell_type": "markdown",
   "metadata": {},
   "source": [
    "Afficher le maximum et l'indice du premier maximum rencontré dans b\n",
    "Afficher le minimum et l'indice du premier minmum rencontré dans b"
   ]
  },
  {
   "cell_type": "code",
   "execution_count": 243,
   "metadata": {},
   "outputs": [
    {
     "name": "stdout",
     "output_type": "stream",
     "text": [
      "[8 6 6 3 7 4 3 9 6 5 8 7 8 1 2 2 5 3 9 3]\n"
     ]
    },
    {
     "data": {
      "text/plain": [
       "13"
      ]
     },
     "metadata": {},
     "output_type": "display_data"
    },
    {
     "data": {
      "text/plain": [
       "7"
      ]
     },
     "metadata": {},
     "output_type": "display_data"
    },
    {
     "name": "stdout",
     "output_type": "stream",
     "text": [
      "maxi 9 indice 7 mini 1 indice 13\n"
     ]
    }
   ],
   "source": [
    "# à compléter\n",
    "print(b)\n",
    "\n",
    "min_index = list(b).index(np.min(b))\n",
    "max_index = list(b).index(np.max(b))\n",
    "\n",
    "display(np.argmin(b))\n",
    "display(np.argmax(b))\n",
    "\n",
    "print(f'maxi {np.max(b)} indice {max_index} mini {np.min(b)} indice {min_index}')"
   ]
  },
  {
   "cell_type": "markdown",
   "metadata": {},
   "source": [
    "### 2) Opérations vectorisées"
   ]
  },
  {
   "cell_type": "markdown",
   "metadata": {},
   "source": [
    "Calculer le tableau numpy qu'on appellera tab2 contenant le carré des valeurs de a, sans faire de boucle."
   ]
  },
  {
   "cell_type": "code",
   "execution_count": 244,
   "metadata": {},
   "outputs": [
    {
     "data": {
      "text/plain": [
       "array([  1,   4,   9,  16,  25,  36,  49,  64,  81, 100, 121, 144, 169,\n",
       "       196, 225, 256, 289, 324, 361, 400])"
      ]
     },
     "metadata": {},
     "output_type": "display_data"
    }
   ],
   "source": [
    "# à compléter\n",
    "# p = np.full_like(a1, 2)\n",
    "# np.power(a1, p)\n",
    "\n",
    "new = np.multiply(a1, a1)\n",
    "display(new)"
   ]
  },
  {
   "cell_type": "markdown",
   "metadata": {},
   "source": [
    "Calculer le tableau tab contenant la somme terme à terme des éléments de a et de a2."
   ]
  },
  {
   "cell_type": "code",
   "execution_count": 245,
   "metadata": {},
   "outputs": [
    {
     "data": {
      "text/plain": [
       "array([  2,   6,  12,  20,  30,  42,  56,  72,  90, 110, 132, 156, 182,\n",
       "       210, 240, 272, 306, 342, 380, 420])"
      ]
     },
     "metadata": {},
     "output_type": "display_data"
    }
   ],
   "source": [
    "# à compléter\n",
    "\n",
    "tab = np.add(a1, new)\n",
    "display(tab)"
   ]
  },
  {
   "cell_type": "markdown",
   "metadata": {},
   "source": [
    "### 3) tableaux multi-dimensions de numpy"
   ]
  },
  {
   "cell_type": "markdown",
   "metadata": {},
   "source": [
    "Créer un tableau a de taille 6x4 (6 lignes et 4 colonnes) rempli de valeurs aléatoires entières de 1 à 9 inclus. Vous utiliserez pour cela la fonction `np.random.randint` du module numpy.\n",
    "\n",
    "Afficher son contenu. \n",
    "\n",
    "Le résultat attendu ressemble à ce qui suit, mais les valeurs dépendent bien sûr du tirage au sort :\n",
    "\n",
    "[[5 1 7 2]\\\n",
    " [9 3 5 3]\\\n",
    " [4 9 2 4]\\\n",
    " [3 2 5 1]\\\n",
    " [6 2 6 1]\\\n",
    " [5 5 9 8]]\n",
    " \n",
    " On fera ensuite afficher dimension, size et shape. "
   ]
  },
  {
   "cell_type": "code",
   "execution_count": 246,
   "metadata": {},
   "outputs": [
    {
     "data": {
      "text/plain": [
       "array([[6, 6, 8, 7],\n",
       "       [3, 9, 3, 6],\n",
       "       [6, 9, 8, 5],\n",
       "       [8, 6, 5, 1],\n",
       "       [2, 4, 9, 1],\n",
       "       [4, 3, 2, 3]])"
      ]
     },
     "metadata": {},
     "output_type": "display_data"
    },
    {
     "name": "stdout",
     "output_type": "stream",
     "text": [
      "ndim=  2 shape=  (6, 4) size=  24\n"
     ]
    }
   ],
   "source": [
    "import numpy as np\n",
    "# à compléter\n",
    "tab1 = np.random.randint(1, 10, size=(6,4), dtype=int)\n",
    "display(tab1)\n",
    "print('ndim= ', tab1.ndim,     'shape= ', tab1.shape,     'size= ', tab1.size)"
   ]
  },
  {
   "cell_type": "markdown",
   "metadata": {},
   "source": [
    "#### a) Calculs"
   ]
  },
  {
   "cell_type": "markdown",
   "metadata": {},
   "source": [
    "Créer une matrice de 3x4 contenant des entiers entre 1 et 9 inclus, puis calculer successivement :\n",
    "\n",
    "    la somme de toutes les valeurs\n",
    "    la somme de chacune des lignes\n",
    "    la somme de chacune des colonnes\n",
    "    la somme des cubes des valeurs\n",
    "    "
   ]
  },
  {
   "cell_type": "code",
   "execution_count": 247,
   "metadata": {},
   "outputs": [
    {
     "name": "stdout",
     "output_type": "stream",
     "text": [
      "Tableau a\n"
     ]
    },
    {
     "data": {
      "text/plain": [
       "array([[8, 6, 3, 8],\n",
       "       [7, 7, 5, 7],\n",
       "       [1, 3, 5, 8]])"
      ]
     },
     "metadata": {},
     "output_type": "display_data"
    }
   ],
   "source": [
    "# à compléter\n",
    "print('Tableau a')\n",
    "a = np.random.randint(1, 10, size=(3, 4))\n",
    "display(a)"
   ]
  },
  {
   "cell_type": "code",
   "execution_count": 248,
   "metadata": {},
   "outputs": [
    {
     "data": {
      "text/plain": [
       "68"
      ]
     },
     "metadata": {},
     "output_type": "display_data"
    },
    {
     "data": {
      "text/plain": [
       "5.666666666666667"
      ]
     },
     "execution_count": 248,
     "metadata": {},
     "output_type": "execute_result"
    }
   ],
   "source": [
    "# à compléter\n",
    "display(np.sum(a))\n",
    "np.mean(a)"
   ]
  },
  {
   "cell_type": "code",
   "execution_count": 249,
   "metadata": {},
   "outputs": [
    {
     "data": {
      "text/plain": [
       "array([16, 16, 13, 23])"
      ]
     },
     "execution_count": 249,
     "metadata": {},
     "output_type": "execute_result"
    }
   ],
   "source": [
    "# à compléter\n",
    "np.sum(a, axis=0)"
   ]
  },
  {
   "cell_type": "code",
   "execution_count": 250,
   "metadata": {},
   "outputs": [
    {
     "data": {
      "text/plain": [
       "array([25, 26, 17])"
      ]
     },
     "execution_count": 250,
     "metadata": {},
     "output_type": "execute_result"
    }
   ],
   "source": [
    "# à compléter\n",
    "np.sum(a, axis=1)"
   ]
  },
  {
   "cell_type": "code",
   "execution_count": 251,
   "metadata": {},
   "outputs": [
    {
     "data": {
      "text/plain": [
       "3086"
      ]
     },
     "execution_count": 251,
     "metadata": {},
     "output_type": "execute_result"
    }
   ],
   "source": [
    "# à compléter\n",
    "# vf = np.vectorize(lambda x: x**3)\n",
    "# new_tab = vf(tab)\n",
    "# np.sum(new_tab)\n",
    "\n",
    "np.sum(np.power(a, 3))"
   ]
  },
  {
   "cell_type": "markdown",
   "metadata": {},
   "source": [
    "Tester la commande\n",
    "a>=5\n",
    "\n",
    "En déduire le nombre de valeurs supérieures 5 et la somme des valeurs supérieures 5"
   ]
  },
  {
   "cell_type": "code",
   "execution_count": 252,
   "metadata": {},
   "outputs": [
    {
     "name": "stdout",
     "output_type": "stream",
     "text": [
      "test a>5:\n"
     ]
    },
    {
     "data": {
      "text/plain": [
       "array([[ True,  True, False,  True],\n",
       "       [ True,  True, False,  True],\n",
       "       [False, False, False,  True]])"
      ]
     },
     "metadata": {},
     "output_type": "display_data"
    }
   ],
   "source": [
    "# à compléter\n",
    "\n",
    "print('test a>5:')\n",
    "# np.place(a, a, a > 5)\n",
    "res = a > 5\n",
    "display(res)"
   ]
  },
  {
   "cell_type": "code",
   "execution_count": 253,
   "metadata": {},
   "outputs": [
    {
     "name": "stdout",
     "output_type": "stream",
     "text": [
      "nombre de valeurs supérieures à 5 :\n"
     ]
    },
    {
     "data": {
      "text/plain": [
       "7"
      ]
     },
     "execution_count": 253,
     "metadata": {},
     "output_type": "execute_result"
    }
   ],
   "source": [
    "# à compléter\n",
    "\n",
    "print('nombre de valeurs supérieures à 5 :')\n",
    "# np.count_nonzero(a > 5)\n",
    "np.sum(a > 5)"
   ]
  },
  {
   "cell_type": "code",
   "execution_count": 254,
   "metadata": {},
   "outputs": [
    {
     "data": {
      "text/plain": [
       "array([8, 6, 8, 7, 7, 7, 8])"
      ]
     },
     "metadata": {},
     "output_type": "display_data"
    },
    {
     "name": "stdout",
     "output_type": "stream",
     "text": [
      "somme des valeurs supérieures à 5 :\n"
     ]
    },
    {
     "data": {
      "text/plain": [
       "51"
      ]
     },
     "execution_count": 254,
     "metadata": {},
     "output_type": "execute_result"
    }
   ],
   "source": [
    "# à compléter)\n",
    "display(a[a>5])\n",
    "print('somme des valeurs supérieures à 5 :')\n",
    "np.sum(a[a>5])\n"
   ]
  },
  {
   "cell_type": "markdown",
   "metadata": {},
   "source": [
    "On notera $a_ij$ le contenu de la case (i,j) du tableau a.\n",
    "\n",
    "Calculer le tableau b tel que $b_ij=a_ij^2+3a_ij -5$"
   ]
  },
  {
   "cell_type": "code",
   "execution_count": 255,
   "metadata": {},
   "outputs": [
    {
     "data": {
      "text/plain": [
       "array([[83, 49, 13, 83],\n",
       "       [65, 65, 35, 65],\n",
       "       [-1, 13, 35, 83]])"
      ]
     },
     "metadata": {},
     "output_type": "display_data"
    }
   ],
   "source": [
    "# à compléter\n",
    "b = np.power(a, 2) + (3 * a) - 5\n",
    "\n",
    "display(b)"
   ]
  },
  {
   "cell_type": "markdown",
   "metadata": {},
   "source": [
    "#### b) Indexation"
   ]
  },
  {
   "cell_type": "markdown",
   "metadata": {},
   "source": [
    "Afficher les valeurs de `tab (fin de la première partie) ` dont les **indices** sont pairs  (attention, les indices pas les valeurs). L'instruction doit être valable pour n'importe quel tableau à 1 dimension, quel que soit le nombre de valeurs."
   ]
  },
  {
   "cell_type": "code",
   "execution_count": 256,
   "metadata": {},
   "outputs": [
    {
     "name": "stdout",
     "output_type": "stream",
     "text": [
      "val indices pairs :\n"
     ]
    },
    {
     "data": {
      "text/plain": [
       "array([ 1,  3,  5,  7,  9, 11, 13, 15, 17, 19])"
      ]
     },
     "metadata": {},
     "output_type": "display_data"
    }
   ],
   "source": [
    "# à compléter\n",
    "\n",
    "print('val indices pairs :')\n",
    "list_index = np.array(range(0, a1.size))\n",
    "# display(np.argsort(a1))\n",
    "\n",
    "indices_pairs = a1[list_index % 2 == 0]\n",
    "display(indices_pairs)"
   ]
  },
  {
   "cell_type": "markdown",
   "metadata": {},
   "source": [
    "Afficher la somme des valeurs de tab dont les **indices** sont pairs"
   ]
  },
  {
   "cell_type": "code",
   "execution_count": 257,
   "metadata": {},
   "outputs": [
    {
     "data": {
      "text/plain": [
       "100"
      ]
     },
     "execution_count": 257,
     "metadata": {},
     "output_type": "execute_result"
    }
   ],
   "source": [
    "# à compléter\n",
    "np.sum(indices_pairs)"
   ]
  },
  {
   "cell_type": "markdown",
   "metadata": {},
   "source": [
    "#### c) Modifications dans un tableau\n",
    "Créer un tableau `a` de taille 8x8 (8 lignes et 8 colonnes) rempli de valeurs aléatoires entières de 1 à 9 inclus. \n",
    "\n",
    "**Pour toutes les questions suivantes, nous travaillerons avec un tableau de taille 8x8  mais vos instructions devraient fonctionner pour un tableau de taille quelconque**\n",
    "\n",
    "On fera un nouveau tableau par question pour mieux observer les résultats produits.\n",
    "\n",
    "\n",
    "\n",
    "Au moyen du sélecteur approprié, remplacer toutes les valeurs du tableau par la valeur 0. Attention le nombre de lignes / colonnes doit être conservé. Afficher le résultat.\n",
    "On doit remplacer les valeurs, pas créer un nouveau tableau.\n"
   ]
  },
  {
   "cell_type": "code",
   "execution_count": 258,
   "metadata": {},
   "outputs": [
    {
     "data": {
      "text/plain": [
       "array([[7, 9, 4, 1, 9, 8, 5, 1],\n",
       "       [5, 8, 1, 9, 2, 7, 8, 8],\n",
       "       [6, 9, 9, 7, 6, 6, 8, 9],\n",
       "       [5, 1, 6, 6, 6, 2, 7, 1],\n",
       "       [3, 1, 4, 7, 9, 2, 9, 1],\n",
       "       [3, 6, 9, 4, 7, 9, 8, 8],\n",
       "       [9, 9, 8, 4, 8, 1, 7, 1],\n",
       "       [9, 4, 2, 5, 5, 2, 5, 6]])"
      ]
     },
     "metadata": {},
     "output_type": "display_data"
    },
    {
     "data": {
      "text/plain": [
       "array([[0, 0, 0, 0, 0, 0, 0, 0],\n",
       "       [0, 0, 0, 0, 0, 0, 0, 0],\n",
       "       [0, 0, 0, 0, 0, 0, 0, 0],\n",
       "       [0, 0, 0, 0, 0, 0, 0, 0],\n",
       "       [0, 0, 0, 0, 0, 0, 0, 0],\n",
       "       [0, 0, 0, 0, 0, 0, 0, 0],\n",
       "       [0, 0, 0, 0, 0, 0, 0, 0],\n",
       "       [0, 0, 0, 0, 0, 0, 0, 0]])"
      ]
     },
     "metadata": {},
     "output_type": "display_data"
    }
   ],
   "source": [
    "import numpy as np\n",
    "# à compléter\n",
    "a = np.random.randint(1, 10, size=(8,8))\n",
    "display(a)\n",
    "\n",
    "# a = np.zeros_like(a)\n",
    "# a.put(np.array(range(a.size)), 0)\n",
    "a[:, :] = 0\n",
    "\n",
    "display(a)"
   ]
  },
  {
   "cell_type": "markdown",
   "metadata": {},
   "source": [
    "Créer un tableau `a` de taille  8x8 (8 lignes et 8 colonnes) rempli de valeurs aléatoires entières de 1 à 9 inclus,  puis mettre la première ligne du tableau à 0. \n"
   ]
  },
  {
   "cell_type": "code",
   "execution_count": 259,
   "metadata": {},
   "outputs": [
    {
     "data": {
      "text/plain": [
       "array([[0, 0, 0, 0, 0, 0, 0, 0],\n",
       "       [1, 9, 3, 4, 2, 6, 8, 9],\n",
       "       [4, 4, 1, 5, 9, 9, 2, 4],\n",
       "       [1, 7, 5, 5, 3, 6, 1, 1],\n",
       "       [1, 2, 5, 2, 9, 1, 1, 6],\n",
       "       [9, 7, 2, 2, 2, 2, 6, 1],\n",
       "       [9, 9, 4, 8, 9, 1, 4, 8],\n",
       "       [9, 6, 8, 6, 2, 5, 1, 2]])"
      ]
     },
     "metadata": {},
     "output_type": "display_data"
    }
   ],
   "source": [
    "# à compléter\n",
    "a = np.random.randint(1, 10, size=(8,8))\n",
    "\n",
    "# list_index_f_line = np.array(range(a.shape[0]))\n",
    "# a.put(list_index_f_line, 0)\n",
    "\n",
    "a[0, :] = 0\n",
    "display(a)"
   ]
  },
  {
   "cell_type": "markdown",
   "metadata": {},
   "source": [
    "Créer un tableau `a` de taille  8x8 (8 lignes et 8 colonnes) rempli de valeurs aléatoires entières de 1 à 9 inclus puis mettre la colonne numéro 2 du tableau à 0. \n"
   ]
  },
  {
   "cell_type": "code",
   "execution_count": 260,
   "metadata": {},
   "outputs": [
    {
     "data": {
      "text/plain": [
       "array([[4, 2, 0, 4, 2, 8, 8, 6],\n",
       "       [4, 5, 0, 9, 2, 2, 1, 1],\n",
       "       [1, 8, 0, 9, 7, 9, 5, 7],\n",
       "       [9, 3, 0, 3, 2, 1, 4, 5],\n",
       "       [2, 5, 0, 3, 6, 9, 1, 1],\n",
       "       [4, 6, 0, 3, 4, 6, 1, 5],\n",
       "       [1, 8, 0, 5, 8, 3, 1, 3],\n",
       "       [8, 3, 0, 9, 4, 3, 3, 8]])"
      ]
     },
     "metadata": {},
     "output_type": "display_data"
    }
   ],
   "source": [
    "# à compléter\n",
    "a = np.random.randint(1, 10, size=(8,8))\n",
    "\n",
    "a[:, 2] = 0\n",
    "display(a)"
   ]
  },
  {
   "cell_type": "markdown",
   "metadata": {},
   "source": [
    "Créer un tableau `a` de taille  8x8 (8 lignes et 8 colonnes) rempli de valeurs aléatoires entières de 1 à 9 inclus,  puis mettre la première et la dernière colonne à 0 (en une seule instruction)"
   ]
  },
  {
   "cell_type": "code",
   "execution_count": 261,
   "metadata": {},
   "outputs": [
    {
     "data": {
      "text/plain": [
       "array([[0, 6, 8, 7, 2, 7, 2, 0],\n",
       "       [0, 3, 4, 3, 4, 1, 5, 0],\n",
       "       [0, 3, 6, 1, 5, 2, 3, 0],\n",
       "       [0, 7, 1, 1, 1, 4, 8, 0],\n",
       "       [0, 1, 4, 3, 7, 4, 8, 0],\n",
       "       [0, 5, 9, 9, 8, 4, 5, 0],\n",
       "       [0, 5, 5, 9, 2, 1, 1, 0],\n",
       "       [0, 9, 1, 4, 2, 8, 7, 0]])"
      ]
     },
     "metadata": {},
     "output_type": "display_data"
    }
   ],
   "source": [
    "# à compléter\n",
    "a = np.random.randint(1, 10, size=(8,8))\n",
    "\n",
    "a[:, (0, -1)] = 0\n",
    "\n",
    "display(a)"
   ]
  },
  {
   "cell_type": "markdown",
   "metadata": {},
   "source": [
    "Créer un tableau `a`de taille  8x8 (8 lignes et 8 colonnes) rempli de valeurs aléatoires entières de 1 à 9 inclus puis mettre les 9 cases de la partie supérieure gauche du tableau à 0 en une seule instruction. \n"
   ]
  },
  {
   "cell_type": "code",
   "execution_count": 262,
   "metadata": {},
   "outputs": [
    {
     "data": {
      "text/plain": [
       "array([[0, 0, 0, 4, 8, 7, 7, 2],\n",
       "       [0, 0, 0, 8, 5, 8, 1, 4],\n",
       "       [0, 0, 0, 9, 9, 6, 1, 9],\n",
       "       [5, 7, 8, 1, 3, 2, 1, 2],\n",
       "       [2, 1, 6, 1, 2, 3, 3, 9],\n",
       "       [4, 7, 6, 6, 2, 6, 9, 9],\n",
       "       [7, 9, 4, 2, 3, 5, 4, 7],\n",
       "       [1, 4, 9, 9, 1, 3, 5, 6]])"
      ]
     },
     "metadata": {},
     "output_type": "display_data"
    }
   ],
   "source": [
    "# à compléter\n",
    "a = np.random.randint(1, 10, size=(8,8))\n",
    "\n",
    "a[:3, :3] = 0\n",
    "\n",
    "display(a)"
   ]
  },
  {
   "cell_type": "markdown",
   "metadata": {},
   "source": [
    "Créer un tableau `a` de taille  8x8 (8 lignes et 8 colonnes) rempli de valeurs aléatoires entières de 1 à 9 inclus puis mettre  les cases qui sont sur des lignes **et** des colonnes paires à 0."
   ]
  },
  {
   "cell_type": "code",
   "execution_count": 263,
   "metadata": {
    "scrolled": true
   },
   "outputs": [
    {
     "data": {
      "text/plain": [
       "array([[0, 8, 0, 8, 0, 7, 0, 5],\n",
       "       [5, 4, 5, 3, 2, 1, 8, 3],\n",
       "       [0, 2, 0, 8, 0, 4, 0, 4],\n",
       "       [3, 2, 1, 2, 8, 3, 4, 3],\n",
       "       [0, 7, 0, 3, 0, 5, 0, 8],\n",
       "       [6, 9, 6, 8, 9, 4, 9, 8],\n",
       "       [0, 1, 0, 8, 0, 2, 0, 1],\n",
       "       [2, 6, 4, 8, 1, 9, 5, 6]])"
      ]
     },
     "metadata": {},
     "output_type": "display_data"
    }
   ],
   "source": [
    "#!TODO à compléter\n",
    "a = np.random.randint(1, 10, size=(8,8))\n",
    "\n",
    "# indexs = np.array(range(a.shape[1]))\n",
    "# display(indexs)\n",
    "a[::2, ::2] = 0\n",
    "\n",
    "\n",
    "display(a)"
   ]
  },
  {
   "cell_type": "markdown",
   "metadata": {},
   "source": [
    "Créer un tableau `a` de taille  8x8 (8 lignes et 8 colonnes) rempli de valeurs aléatoires entières de 1 à 9 inclus puis mettre les cases $[1,3]$ et $[3,2]$ à 0 (en une seule instruction). "
   ]
  },
  {
   "cell_type": "code",
   "execution_count": 264,
   "metadata": {
    "scrolled": false
   },
   "outputs": [
    {
     "data": {
      "text/plain": [
       "array([[6, 9, 4, 9, 2, 8, 6, 4],\n",
       "       [7, 3, 7, 0, 2, 1, 2, 2],\n",
       "       [2, 7, 7, 5, 5, 8, 6, 8],\n",
       "       [1, 7, 0, 6, 3, 7, 3, 4],\n",
       "       [3, 7, 3, 8, 5, 2, 7, 1],\n",
       "       [5, 1, 3, 9, 6, 9, 2, 8],\n",
       "       [5, 7, 2, 9, 7, 9, 7, 9],\n",
       "       [7, 4, 3, 5, 6, 9, 8, 4]])"
      ]
     },
     "metadata": {},
     "output_type": "display_data"
    }
   ],
   "source": [
    "# à compléter\n",
    "a = np.random.randint(1, 10, size=(8,8))\n",
    "\n",
    "a[1,3] = 0\n",
    "a[3,2] = 0\n",
    "\n",
    "display(a)"
   ]
  },
  {
   "cell_type": "markdown",
   "metadata": {},
   "source": [
    "Créer un tableau `a` de taille  8x8 (8 lignes et 8 colonnes) rempli de valeurs aléatoires entières de 1 à 9 inclus puis mettre à 0 toutes les lignes pour lesquelles le vecteur `vect= np.array([False, True, True, False,False, 'True',False, 'True'])` vaut `True` (en une seule instruction). "
   ]
  },
  {
   "cell_type": "code",
   "execution_count": 265,
   "metadata": {},
   "outputs": [
    {
     "data": {
      "text/plain": [
       "array([[4, 7, 7, 8, 9, 9, 5, 2],\n",
       "       [0, 0, 0, 0, 0, 0, 0, 0],\n",
       "       [0, 0, 0, 0, 0, 0, 0, 0],\n",
       "       [4, 2, 3, 6, 3, 2, 5, 2],\n",
       "       [8, 9, 5, 4, 1, 4, 8, 6],\n",
       "       [0, 0, 0, 0, 0, 0, 0, 0],\n",
       "       [6, 1, 5, 4, 3, 5, 9, 1],\n",
       "       [0, 0, 0, 0, 0, 0, 0, 0]])"
      ]
     },
     "metadata": {},
     "output_type": "display_data"
    }
   ],
   "source": [
    "# à compléter\n",
    "a = np.random.randint(1, 10, size=(8,8))\n",
    "\n",
    "vect= np.array([False, True, True, False,False, True ,False, True])\n",
    "\n",
    "a[ vect ==True , :] = 0\n",
    "\n",
    "display(a)"
   ]
  },
  {
   "cell_type": "markdown",
   "metadata": {},
   "source": [
    "A l'aide de la fonction np.ones,  créer un tableau carré de taille 7 ne contenant que des 1.\n",
    "Puis en maximum deux lignes, faire un \"damier\" en remplaçant certains 1 par des 0 (voir résultat ci-dessous)"
   ]
  },
  {
   "cell_type": "code",
   "execution_count": 266,
   "metadata": {},
   "outputs": [
    {
     "data": {
      "text/plain": [
       "array([[0, 1, 0, 1, 0, 1, 0],\n",
       "       [1, 0, 1, 0, 1, 0, 1],\n",
       "       [0, 1, 0, 1, 0, 1, 0],\n",
       "       [1, 0, 1, 0, 1, 0, 1],\n",
       "       [0, 1, 0, 1, 0, 1, 0],\n",
       "       [1, 0, 1, 0, 1, 0, 1],\n",
       "       [0, 1, 0, 1, 0, 1, 0]])"
      ]
     },
     "metadata": {},
     "output_type": "display_data"
    }
   ],
   "source": [
    "# à compléter\n",
    "\n",
    "a = np.ones((7,7), dtype= int)\n",
    "\n",
    "# help(a.flatten)\n",
    "a = a.flatten()\n",
    "a[::2] = 0\n",
    "a = a.reshape(7,7)\n",
    "\n",
    "display(a)\n"
   ]
  },
  {
   "cell_type": "markdown",
   "metadata": {},
   "source": [
    "### 4. Partage de  valeurs dans un tableau"
   ]
  },
  {
   "cell_type": "markdown",
   "metadata": {},
   "source": [
    "#### a ) \" Vues\"   (extrait avec des slices) "
   ]
  },
  {
   "cell_type": "markdown",
   "metadata": {},
   "source": [
    "Créer un tableau `a` de taille 4x4 rempli de valeurs aléatoires entières de 1 à 9 inclus que l'on nommera a.\n",
    "\n",
    "Créer ensuite une vue (appelée `b`) de la matrice `a` correspondant aux sélecteurs précédents en prenant pas ar exemple :\n",
    "\n",
    "    b = a[0,:] \n",
    "    \n",
    "    \n",
    "Modifier le contenu de `b` et regarder l'effet sur `a`. Puis modifier `a` et regarder l'effet sur `b`\n",
    "\n",
    "Exemple de ce qui est attendu :\n",
    "\n",
    "    a= [[6 3 8 1]\n",
    "     [3 9 4 4]\n",
    "     [9 5 4 5]\n",
    "     [4 2 9 8]] \n",
    "     b= [6 3 8 1]\n",
    "    Après modification de la case 0,3 de a (mise à -1) et la case 0,0 de b (mise à 0)     on obtient :\n",
    "    a= [[ 0  3  8 -1]\n",
    "     [ 3  9  4  4]\n",
    "     [ 9  5  4  5]\n",
    "     [ 4  2  9  8]] \n",
    "     b= [ 0  3  8 -1]    "
   ]
  },
  {
   "cell_type": "code",
   "execution_count": 267,
   "metadata": {},
   "outputs": [
    {
     "data": {
      "text/plain": [
       "array([[6, 2, 3, 1],\n",
       "       [6, 7, 5, 1],\n",
       "       [5, 9, 2, 9],\n",
       "       [2, 7, 5, 9]])"
      ]
     },
     "metadata": {},
     "output_type": "display_data"
    },
    {
     "data": {
      "text/plain": [
       "array([[0, 2, 3, 1],\n",
       "       [6, 7, 5, 1],\n",
       "       [5, 9, 2, 9],\n",
       "       [2, 7, 5, 9]])"
      ]
     },
     "metadata": {},
     "output_type": "display_data"
    },
    {
     "data": {
      "text/plain": [
       "array([999,   2,   3,   1])"
      ]
     },
     "metadata": {},
     "output_type": "display_data"
    }
   ],
   "source": [
    "# à compléter\n",
    "a = np.random.randint(1, 10, size=(4,4))\n",
    "display(a)\n",
    "b = a[0, :]\n",
    "b[0] = 0\n",
    "display(a)\n",
    "a[0,0] = 999\n",
    "display(b)\n"
   ]
  },
  {
   "cell_type": "markdown",
   "metadata": {},
   "source": [
    "#### b) Copies\n",
    "Reproduire la même expérience, mais cette fois-ci en définissant `b` comme une copie de `a` (et non plus une vue) à l'aide de la fonction copy avec l'instruction a[0,:].copy().\n",
    "Comparer les résultats."
   ]
  },
  {
   "cell_type": "code",
   "execution_count": 268,
   "metadata": {},
   "outputs": [
    {
     "data": {
      "text/plain": [
       "array([[6, 2, 7, 6],\n",
       "       [3, 3, 6, 9],\n",
       "       [1, 8, 4, 8],\n",
       "       [9, 5, 2, 2]])"
      ]
     },
     "metadata": {},
     "output_type": "display_data"
    },
    {
     "data": {
      "text/plain": [
       "array([1111,    2,    7,    6])"
      ]
     },
     "metadata": {},
     "output_type": "display_data"
    },
    {
     "data": {
      "text/plain": [
       "array([[6, 2, 7, 6],\n",
       "       [3, 3, 6, 9],\n",
       "       [1, 8, 4, 8],\n",
       "       [9, 5, 2, 2]])"
      ]
     },
     "metadata": {},
     "output_type": "display_data"
    },
    {
     "data": {
      "text/plain": [
       "array([[999,   2,   7,   6],\n",
       "       [  3,   3,   6,   9],\n",
       "       [  1,   8,   4,   8],\n",
       "       [  9,   5,   2,   2]])"
      ]
     },
     "metadata": {},
     "output_type": "display_data"
    },
    {
     "data": {
      "text/plain": [
       "array([1111,    2,    7,    6])"
      ]
     },
     "metadata": {},
     "output_type": "display_data"
    }
   ],
   "source": [
    "# à compléter\n",
    "a = np.random.randint(1, 10, size=(4,4))\n",
    "display(a)\n",
    "\n",
    "\n",
    "b = a[0, :].copy()\n",
    "\n",
    "b[0] = 1111\n",
    "display(b)\n",
    "display(a)\n",
    "\n",
    "\n",
    "a[0,0] = 999\n",
    "display(a)\n",
    "display(b)"
   ]
  },
  {
   "cell_type": "markdown",
   "metadata": {},
   "source": [
    "### 5) Tableaux de tailles différentes"
   ]
  },
  {
   "cell_type": "markdown",
   "metadata": {},
   "source": [
    "Créer un array numpy nommé `a` de taille 3x3 contenant des valeurs aléatoires entières entre 1 et 9 compris. \n",
    "\n",
    "Créer un second array nommé `b` de taille 1x3 également rempli de valeurs aléatoires entières entre 1 et 9 compris.\n",
    "\n",
    "Créer un troisième array nommé `c` de taille 3x1 également rempli de valeurs aléatoires entières entre 1 et 9 compris."
   ]
  },
  {
   "cell_type": "code",
   "execution_count": 269,
   "metadata": {},
   "outputs": [],
   "source": [
    "# à compléter\n",
    "a = np.random.randint(1, 10, size=(3,3))\n",
    "b = np.random.randint(1, 10, size=(1,3))\n",
    "c = np.random.randint(1, 10, size=(3,1))"
   ]
  },
  {
   "cell_type": "markdown",
   "metadata": {},
   "source": [
    "Ajouter la constante 5 à a, afficher le résultat :"
   ]
  },
  {
   "cell_type": "code",
   "execution_count": 270,
   "metadata": {},
   "outputs": [
    {
     "data": {
      "text/plain": [
       "array([[5, 4, 2],\n",
       "       [3, 7, 2],\n",
       "       [3, 7, 9]])"
      ]
     },
     "metadata": {},
     "output_type": "display_data"
    },
    {
     "data": {
      "text/plain": [
       "array([[10,  9,  7],\n",
       "       [ 8, 12,  7],\n",
       "       [ 8, 12, 14]])"
      ]
     },
     "metadata": {},
     "output_type": "display_data"
    }
   ],
   "source": [
    "# à compléter\n",
    "display(a)\n",
    "display(a + 5)"
   ]
  },
  {
   "cell_type": "markdown",
   "metadata": {},
   "source": [
    "Calculer (a+b). Que représente ce calcul?\n",
    "\n",
    "Calculer (a+c). Que représente ce calcul?\n",
    "\n",
    "Afficher b.T\n",
    "\n",
    "En déduire une façon d'ajouter b à chaque colonne de a"
   ]
  },
  {
   "cell_type": "code",
   "execution_count": 277,
   "metadata": {},
   "outputs": [
    {
     "data": {
      "text/plain": [
       "array([[5, 4, 2],\n",
       "       [3, 7, 2],\n",
       "       [3, 7, 9]])"
      ]
     },
     "metadata": {},
     "output_type": "display_data"
    },
    {
     "data": {
      "text/plain": [
       "array([[5, 7, 7]])"
      ]
     },
     "metadata": {},
     "output_type": "display_data"
    },
    {
     "data": {
      "text/plain": [
       "array([[2],\n",
       "       [2],\n",
       "       [8]])"
      ]
     },
     "metadata": {},
     "output_type": "display_data"
    },
    {
     "name": "stdout",
     "output_type": "stream",
     "text": [
      "a+b :\n"
     ]
    },
    {
     "data": {
      "text/plain": [
       "array([[10, 11,  9],\n",
       "       [ 8, 14,  9],\n",
       "       [ 8, 14, 16]])"
      ]
     },
     "metadata": {},
     "output_type": "display_data"
    },
    {
     "name": "stdout",
     "output_type": "stream",
     "text": [
      "a+c :\n"
     ]
    },
    {
     "data": {
      "text/plain": [
       "array([[ 7,  6,  4],\n",
       "       [ 5,  9,  4],\n",
       "       [11, 15, 17]])"
      ]
     },
     "metadata": {},
     "output_type": "display_data"
    },
    {
     "name": "stdout",
     "output_type": "stream",
     "text": [
      "b.T :\n"
     ]
    },
    {
     "data": {
      "text/plain": [
       "array([[5],\n",
       "       [7],\n",
       "       [7]])"
      ]
     },
     "metadata": {},
     "output_type": "display_data"
    },
    {
     "name": "stdout",
     "output_type": "stream",
     "text": [
      "a+b.T :\n"
     ]
    },
    {
     "data": {
      "text/plain": [
       "array([[10,  9,  7],\n",
       "       [10, 14,  9],\n",
       "       [10, 14, 16]])"
      ]
     },
     "metadata": {},
     "output_type": "display_data"
    }
   ],
   "source": [
    "# à compléter\n",
    "display(a)\n",
    "display(b)\n",
    "display(c)\n",
    "\n",
    "print('a+b :')\n",
    "display(a + b)\n",
    "\n",
    "print('a+c :')\n",
    "display(a + c)\n",
    "\n",
    "print('b.T :')\n",
    "display(b.T)\n",
    "\n",
    "print('a+b.T :')\n",
    "display(a + b.T)"
   ]
  },
  {
   "cell_type": "markdown",
   "metadata": {},
   "source": [
    "Calculer la somme b+c, afficher le résultat et le commenter."
   ]
  },
  {
   "cell_type": "code",
   "execution_count": 279,
   "metadata": {},
   "outputs": [
    {
     "data": {
      "text/plain": [
       "array([[ 7,  9,  9],\n",
       "       [ 7,  9,  9],\n",
       "       [13, 15, 15]])"
      ]
     },
     "metadata": {},
     "output_type": "display_data"
    },
    {
     "data": {
      "text/plain": [
       "93"
      ]
     },
     "metadata": {},
     "output_type": "display_data"
    }
   ],
   "source": [
    "# à compléter\n",
    "\n",
    "display(b+c)\n",
    "\n",
    "display(np.sum(b+c))"
   ]
  }
 ],
 "metadata": {
  "kernelspec": {
   "display_name": "Python 3 (ipykernel)",
   "language": "python",
   "name": "python3"
  },
  "language_info": {
   "codemirror_mode": {
    "name": "ipython",
    "version": 3
   },
   "file_extension": ".py",
   "mimetype": "text/x-python",
   "name": "python",
   "nbconvert_exporter": "python",
   "pygments_lexer": "ipython3",
   "version": "3.12.1"
  },
  "latex_envs": {
   "LaTeX_envs_menu_present": false,
   "autoclose": false,
   "autocomplete": false,
   "bibliofile": "biblio.bib",
   "cite_by": "apalike",
   "current_citInitial": 1,
   "eqLabelWithNumbers": false,
   "eqNumInitial": 1,
   "hotkeys": {
    "equation": "Ctrl-E",
    "itemize": "Ctrl-I"
   },
   "labels_anchors": false,
   "latex_user_defs": false,
   "report_style_numbering": false,
   "user_envs_cfg": false
  },
  "toc": {
   "base_numbering": 1,
   "nav_menu": {},
   "number_sections": true,
   "sideBar": true,
   "skip_h1_title": false,
   "title_cell": "Table of Contents",
   "title_sidebar": "Contents",
   "toc_cell": false,
   "toc_position": {},
   "toc_section_display": true,
   "toc_window_display": false
  },
  "vscode": {
   "interpreter": {
    "hash": "a2f5a4e5cb9685a704f3797f6942b9eb6ca9983296f40a6a598da917a934f46a"
   }
  }
 },
 "nbformat": 4,
 "nbformat_minor": 2
}
