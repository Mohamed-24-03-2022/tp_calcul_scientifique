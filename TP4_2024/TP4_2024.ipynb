{
 "cells": [
  {
   "cell_type": "markdown",
   "metadata": {},
   "source": [
    " # Calcul scientifique -- TP4 -- numpy"
   ]
  },
  {
   "cell_type": "markdown",
   "metadata": {},
   "source": [
    "**Nom :** &nbsp;&nbsp;&nbsp;&nbsp;   &nbsp;&ensp; &emsp;    \n",
    "**Prénom:** &emsp;&emsp;  "
   ]
  },
  {
   "cell_type": "markdown",
   "metadata": {},
   "source": [
    "Ce TP reprend la fin du TP3 mais propose une suite (qui n'est pas une option!). Comme au TP3, il n'y a pas de boucles à écrire.\n",
    "\n",
    "**Attention: exercice noté à la fin du TP5 (sur sympy et numpy, contenus des TP 1,2,3 et 4).**\n"
   ]
  },
  {
   "cell_type": "markdown",
   "metadata": {},
   "source": [
    "Pour commencer, on importe la librairie  `numpy`"
   ]
  },
  {
   "cell_type": "code",
   "execution_count": 1,
   "metadata": {},
   "outputs": [],
   "source": [
    "import numpy as np"
   ]
  },
  {
   "cell_type": "markdown",
   "metadata": {},
   "source": [
    "### 1) Utilisation des index "
   ]
  },
  {
   "cell_type": "markdown",
   "metadata": {},
   "source": [
    "Creer un tableau nommé tab à une dimension de taille 19 avec des valeurs aléatoires puis l'afficher.\n",
    "Ensuite , afficher les valeurs  dont les **indices** sont pairs  (attention, les indices pas les valeurs). L'instruction doit être valable pour n'importe quel tableau à 1 dimension, quel que soit le nombre de valeurs.\n",
    "\n",
    "Pour comparer les méthodes, afficher les valeurs paires du tableau"
   ]
  },
  {
   "cell_type": "code",
   "execution_count": 2,
   "metadata": {},
   "outputs": [
    {
     "name": "stdout",
     "output_type": "stream",
     "text": [
      "tab [6 3 8 6 1 6 9 7 1 6 6 3 1 1 1 5 2 9 1]\n",
      "val indices pairs : [6 8 1 9 1 6 1 1 2 1]\n",
      "val paires [6 8 6 6 6 6 2]\n"
     ]
    }
   ],
   "source": [
    "# A compléter ..."
   ]
  },
  {
   "cell_type": "markdown",
   "metadata": {},
   "source": [
    "Afficher la somme des valeurs de tab dont les **indices** sont pairs puis la somme des éléments qui sont à des places multiples de 3 plus 1 (index: 1, 4, 7 etc...)"
   ]
  },
  {
   "cell_type": "code",
   "execution_count": 3,
   "metadata": {},
   "outputs": [
    {
     "name": "stdout",
     "output_type": "stream",
     "text": [
      "val indices pairs : 36\n",
      "val indices 1,4,7 etc : 20\n"
     ]
    }
   ],
   "source": [
    "# A compléter ...\n",
    "\n",
    "print('val indices pairs :',s1)\n",
    "print('val indices 1,4,7 etc :',s2)"
   ]
  },
  {
   "cell_type": "markdown",
   "metadata": {},
   "source": [
    "### 2) Modifications dans un tableau à 2D\n",
    "Créer un tableau `a` de taille 8x8 (8 lignes et 8 colonnes) rempli de valeurs aléatoires entières de 1 à 9 inclus. \n",
    "\n",
    "**Pour toutes les questions suivantes, nous travaillerons avec un tableau de taille 8x8  mais vos instructions devraient fonctionner pour un tableau de taille quelconque**\n",
    "\n",
    "On fera un nouveau tableau par question pour mieux observer les résultats produits.\n",
    "\n",
    "\n",
    "\n",
    "Au moyen du sélecteur approprié, remplacer toutes les valeurs du tableau par la valeur 0. Attention le nombre de lignes / colonnes doit être conservé. Afficher le résultat.\n",
    "On doit remplacer les valeurs, pas créer un nouveau tableau.\n"
   ]
  },
  {
   "cell_type": "code",
   "execution_count": 4,
   "metadata": {},
   "outputs": [
    {
     "name": "stdout",
     "output_type": "stream",
     "text": [
      "[[7 7 7 9 8 9 9 4]\n",
      " [9 7 6 8 2 4 5 8]\n",
      " [8 5 2 6 2 4 2 3]\n",
      " [7 3 5 9 3 6 4 8]\n",
      " [3 7 7 1 6 5 1 1]\n",
      " [6 9 9 9 3 3 4 8]\n",
      " [2 1 9 7 6 3 5 1]\n",
      " [3 5 9 5 7 4 2 7]]\n",
      "\n",
      "résultat après modifications\n",
      " [[0 0 0 0 0 0 0 0]\n",
      " [0 0 0 0 0 0 0 0]\n",
      " [0 0 0 0 0 0 0 0]\n",
      " [0 0 0 0 0 0 0 0]\n",
      " [0 0 0 0 0 0 0 0]\n",
      " [0 0 0 0 0 0 0 0]\n",
      " [0 0 0 0 0 0 0 0]\n",
      " [0 0 0 0 0 0 0 0]]\n"
     ]
    }
   ],
   "source": [
    "# A compléter ...\n",
    "print(a)\n",
    "# A compléter ...\n",
    "print(\"\\nrésultat après modifications\\n\",a)"
   ]
  },
  {
   "cell_type": "markdown",
   "metadata": {},
   "source": [
    "Créer un tableau `a` de taille  8x8 (8 lignes et 8 colonnes) rempli de valeurs aléatoires entières de 1 à 9 inclus,  puis mettre la première ligne du tableau à 0. \n"
   ]
  },
  {
   "cell_type": "code",
   "execution_count": 5,
   "metadata": {},
   "outputs": [
    {
     "name": "stdout",
     "output_type": "stream",
     "text": [
      "[[0 0 0 0 0 0 0 0]\n",
      " [2 8 2 6 6 2 1 4]\n",
      " [2 6 2 4 5 1 2 6]\n",
      " [3 7 1 8 7 6 9 4]\n",
      " [8 9 5 5 7 3 1 3]\n",
      " [7 4 6 5 2 5 4 3]\n",
      " [7 2 2 2 2 2 3 5]\n",
      " [2 2 8 2 1 3 3 3]]\n"
     ]
    }
   ],
   "source": [
    "# A compléter ...\n"
   ]
  },
  {
   "cell_type": "markdown",
   "metadata": {},
   "source": [
    "Créer un tableau `a` de taille  8x8 (8 lignes et 8 colonnes) rempli de valeurs aléatoires entières de 1 à 9 inclus puis mettre la colonne numéro 2 du tableau à 0. \n"
   ]
  },
  {
   "cell_type": "code",
   "execution_count": 6,
   "metadata": {},
   "outputs": [
    {
     "name": "stdout",
     "output_type": "stream",
     "text": [
      "[[3 1 0 4 8 8 6 7]\n",
      " [1 6 0 6 7 7 6 9]\n",
      " [5 8 0 6 5 1 7 8]\n",
      " [1 8 0 6 6 5 3 1]\n",
      " [9 2 0 8 5 7 7 3]\n",
      " [4 8 0 5 3 8 7 9]\n",
      " [7 8 0 8 3 9 1 2]\n",
      " [2 2 0 1 1 4 5 9]]\n"
     ]
    }
   ],
   "source": [
    "# A compléter ..."
   ]
  },
  {
   "cell_type": "markdown",
   "metadata": {},
   "source": [
    "Créer un tableau `a` de taille  8x8 (8 lignes et 8 colonnes) rempli de valeurs aléatoires entières de 1 à 9 inclus,  puis mettre la première et la dernière colonne à 0 (en une seule instruction)"
   ]
  },
  {
   "cell_type": "code",
   "execution_count": 7,
   "metadata": {},
   "outputs": [
    {
     "name": "stdout",
     "output_type": "stream",
     "text": [
      "[[0 5 9 9 3 3 4 0]\n",
      " [0 3 3 5 1 6 6 0]\n",
      " [0 3 9 3 9 7 8 0]\n",
      " [0 5 1 2 7 8 1 0]\n",
      " [0 5 6 4 7 8 3 0]\n",
      " [0 5 7 3 9 2 3 0]\n",
      " [0 9 6 4 4 7 8 0]\n",
      " [0 4 9 4 4 9 5 0]]\n"
     ]
    }
   ],
   "source": [
    "# A compléter ..."
   ]
  },
  {
   "cell_type": "markdown",
   "metadata": {},
   "source": [
    "Créer un tableau `a`de taille  8x8 (8 lignes et 8 colonnes) rempli de valeurs aléatoires entières de 1 à 9 inclus puis mettre les 9 cases de la partie supérieure gauche du tableau à 0 en une seule instruction. \n"
   ]
  },
  {
   "cell_type": "code",
   "execution_count": 8,
   "metadata": {},
   "outputs": [
    {
     "name": "stdout",
     "output_type": "stream",
     "text": [
      "[[0 0 0 7 4 9 3 6]\n",
      " [0 0 0 5 9 3 1 5]\n",
      " [0 0 0 1 3 9 5 8]\n",
      " [5 9 6 4 6 9 2 2]\n",
      " [8 6 9 8 9 8 8 2]\n",
      " [7 8 6 3 4 1 1 7]\n",
      " [5 3 4 7 1 3 9 8]\n",
      " [4 4 8 9 7 5 1 8]]\n"
     ]
    }
   ],
   "source": [
    "# A compléter ..."
   ]
  },
  {
   "cell_type": "markdown",
   "metadata": {},
   "source": [
    "Créer un tableau `a` de taille  8x8 (8 lignes et 8 colonnes) rempli de valeurs aléatoires entières de 1 à 9 inclus puis mettre  les cases qui sont sur des lignes **et** des colonnes paires à 0."
   ]
  },
  {
   "cell_type": "code",
   "execution_count": 9,
   "metadata": {
    "scrolled": true
   },
   "outputs": [
    {
     "name": "stdout",
     "output_type": "stream",
     "text": [
      "[[0 5 0 2 0 6 0 5]\n",
      " [2 1 4 1 9 4 3 7]\n",
      " [0 5 0 2 0 2 0 8]\n",
      " [4 2 4 9 1 8 7 6]\n",
      " [0 4 0 8 0 3 0 3]\n",
      " [3 3 1 7 2 3 3 7]\n",
      " [0 7 0 3 0 2 0 6]\n",
      " [5 2 6 9 2 2 3 5]]\n"
     ]
    }
   ],
   "source": [
    "# A compléter ..."
   ]
  },
  {
   "cell_type": "markdown",
   "metadata": {},
   "source": [
    "Créer un tableau `a` de taille  8x8 (8 lignes et 8 colonnes) rempli de valeurs aléatoires entières de 1 à 9 inclus puis mettre les cases $[1,3]$ et $[3,2]$ à 0 (en une seule instruction). "
   ]
  },
  {
   "cell_type": "code",
   "execution_count": 10,
   "metadata": {
    "scrolled": false
   },
   "outputs": [
    {
     "name": "stdout",
     "output_type": "stream",
     "text": [
      "[[3 5 9 3 9 9 5 4]\n",
      " [2 6 1 0 4 4 2 2]\n",
      " [2 3 6 2 4 8 6 2]\n",
      " [4 3 0 5 3 3 6 3]\n",
      " [5 6 1 7 1 4 7 8]\n",
      " [6 5 3 4 5 4 9 6]\n",
      " [7 7 6 3 1 6 6 3]\n",
      " [6 2 1 3 2 4 5 3]]\n"
     ]
    }
   ],
   "source": [
    "# A compléter ..."
   ]
  },
  {
   "cell_type": "markdown",
   "metadata": {},
   "source": [
    "Créer un tableau `a` de taille  8x8 (8 lignes et 8 colonnes) rempli de valeurs aléatoires entières de 1 à 9 inclus puis mettre à 0 toutes les lignes pour lesquelles le vecteur `vect= np.array([False, True, True, False,False, 'True',False, 'True'])` vaut `True` (en une seule instruction). "
   ]
  },
  {
   "cell_type": "code",
   "execution_count": 11,
   "metadata": {},
   "outputs": [
    {
     "name": "stdout",
     "output_type": "stream",
     "text": [
      "[False  True  True False False  True False  True]\n",
      "[[6 6 5 3 3 3 8 1]\n",
      " [0 0 0 0 0 0 0 0]\n",
      " [0 0 0 0 0 0 0 0]\n",
      " [8 6 8 4 5 6 5 1]\n",
      " [9 4 6 4 6 4 1 1]\n",
      " [0 0 0 0 0 0 0 0]\n",
      " [5 4 2 5 8 7 4 1]\n",
      " [0 0 0 0 0 0 0 0]]\n"
     ]
    }
   ],
   "source": [
    "# A compléter ..."
   ]
  },
  {
   "cell_type": "markdown",
   "metadata": {},
   "source": [
    "A l'aide de la fonction np.ones,  créer un tableau carré de taille 7 ne contenant que des 1.\n",
    "Puis en maximum deux lignes, faire un \"damier\" en remplaçant certains 1 par des 0 (voir résultat ci-dessous)"
   ]
  },
  {
   "cell_type": "code",
   "execution_count": 12,
   "metadata": {},
   "outputs": [
    {
     "name": "stdout",
     "output_type": "stream",
     "text": [
      "creation de  a \n",
      " [[1. 1. 1. 1. 1. 1. 1.]\n",
      " [1. 1. 1. 1. 1. 1. 1.]\n",
      " [1. 1. 1. 1. 1. 1. 1.]\n",
      " [1. 1. 1. 1. 1. 1. 1.]\n",
      " [1. 1. 1. 1. 1. 1. 1.]\n",
      " [1. 1. 1. 1. 1. 1. 1.]\n",
      " [1. 1. 1. 1. 1. 1. 1.]]\n",
      "apres transformation \n",
      " [[0. 1. 0. 1. 0. 1. 0.]\n",
      " [1. 0. 1. 0. 1. 0. 1.]\n",
      " [0. 1. 0. 1. 0. 1. 0.]\n",
      " [1. 0. 1. 0. 1. 0. 1.]\n",
      " [0. 1. 0. 1. 0. 1. 0.]\n",
      " [1. 0. 1. 0. 1. 0. 1.]\n",
      " [0. 1. 0. 1. 0. 1. 0.]]\n"
     ]
    }
   ],
   "source": [
    "# A compléter ..."
   ]
  },
  {
   "cell_type": "markdown",
   "metadata": {},
   "source": [
    "### 3. Partage de  valeurs dans un tableau"
   ]
  },
  {
   "cell_type": "markdown",
   "metadata": {},
   "source": [
    "#### a ) \" Vues\"   (extrait avec des slices) "
   ]
  },
  {
   "cell_type": "markdown",
   "metadata": {},
   "source": [
    "Créer un tableau `a` de taille 4x4 rempli de valeurs aléatoires entières de 1 à 9 inclus que l'on nommera a.\n",
    "\n",
    "Créer ensuite une vue (appelée `b`) de la matrice `a` correspondant aux sélecteurs précédents en prenant pas ar exemple :\n",
    "\n",
    "    b = a[0,:] \n",
    "    \n",
    "    \n",
    "Modifier le contenu de `b` et regarder l'effet sur `a`. Puis modifier `a` et regarder l'effet sur `b`\n",
    "\n",
    "Exemple de ce qui est attendu :\n",
    "\n",
    "    a= [[6 3 8 1]\n",
    "     [3 9 4 4]\n",
    "     [9 5 4 5]\n",
    "     [4 2 9 8]] \n",
    "     b= [6 3 8 1]\n",
    "    Après modification de la case 0,3 de a (mise à -1) et la case 0,0 de b (mise à 0)     on obtient :\n",
    "    a= [[ 0  3  8 -1]\n",
    "     [ 3  9  4  4]\n",
    "     [ 9  5  4  5]\n",
    "     [ 4  2  9  8]] \n",
    "     b= [ 0  3  8 -1]    "
   ]
  },
  {
   "cell_type": "code",
   "execution_count": 13,
   "metadata": {},
   "outputs": [
    {
     "name": "stdout",
     "output_type": "stream",
     "text": [
      "a= [[9 8 4 1]\n",
      " [2 1 6 5]\n",
      " [3 5 6 1]\n",
      " [8 8 4 2]] \n",
      "première ligne b= [9 8 4 1]\n",
      "Après modification de la case 0,3 de a (mise à -1) et la case 0,0 de b (mise à 0) on obtient :\n",
      "a= [[ 0  8  4 -1]\n",
      " [ 2  1  6  5]\n",
      " [ 3  5  6  1]\n",
      " [ 8  8  4  2]] \n",
      "b= [ 0  8  4 -1]\n"
     ]
    }
   ],
   "source": [
    "# A compléter ..."
   ]
  },
  {
   "cell_type": "markdown",
   "metadata": {},
   "source": [
    "#### b) Copies\n",
    "Reproduire la même expérience, mais cette fois-ci en définissant `b` comme une copie de `a` (et non plus une vue) à l'aide de la fonction copy avec l'instruction a[0,:].copy().\n",
    "Comparer les résultats."
   ]
  },
  {
   "cell_type": "code",
   "execution_count": 14,
   "metadata": {},
   "outputs": [
    {
     "name": "stdout",
     "output_type": "stream",
     "text": [
      "a= [[6 5 8 1]\n",
      " [4 5 5 6]\n",
      " [3 2 6 3]\n",
      " [2 7 9 6]] \n",
      "b= [6 5 8 1]\n",
      "Après modification de la case 0,3 de a (mise à -1) et la case 0,0 de b (mise à 0) on obtient :\n",
      "a= [[ 6  5  8 -1]\n",
      " [ 4  5  5  6]\n",
      " [ 3  2  6  3]\n",
      " [ 2  7  9  6]] \n",
      "b= [0 5 8 1]\n"
     ]
    }
   ],
   "source": [
    "# A compléter ..."
   ]
  },
  {
   "cell_type": "markdown",
   "metadata": {},
   "source": [
    "### 4) Tableaux de tailles différentes"
   ]
  },
  {
   "cell_type": "markdown",
   "metadata": {},
   "source": [
    "Créer un array numpy nommé `a` de taille 3x3 contenant des valeurs aléatoires entières entre 1 et 9 comprises. \n",
    "\n",
    "Créer un second array nommé `b` de taille 1x3 également rempli de valeurs aléatoires entières entre 1 et 9 comprises.\n",
    "\n",
    "Créer un troisième array nommé `c` de taille 3x1 également rempli de valeurs aléatoires entières entre 1 et 9 comprises.illes différentes"
   ]
  },
  {
   "cell_type": "code",
   "execution_count": 15,
   "metadata": {},
   "outputs": [
    {
     "name": "stdout",
     "output_type": "stream",
     "text": [
      "a = [[2 5 6]\n",
      " [7 8 1]\n",
      " [4 3 9]] \n",
      "b = [[5 8 8]] \n",
      "c= [[8]\n",
      " [8]\n",
      " [5]]\n"
     ]
    }
   ],
   "source": [
    "# A compléter ..."
   ]
  },
  {
   "cell_type": "markdown",
   "metadata": {},
   "source": [
    "Ajouter la constante 5 à a, afficher le résultat :"
   ]
  },
  {
   "cell_type": "code",
   "execution_count": 16,
   "metadata": {},
   "outputs": [
    {
     "name": "stdout",
     "output_type": "stream",
     "text": [
      "[[ 7 10 11]\n",
      " [12 13  6]\n",
      " [ 9  8 14]]\n"
     ]
    }
   ],
   "source": [
    "# A compléter ..."
   ]
  },
  {
   "cell_type": "markdown",
   "metadata": {},
   "source": [
    "Calculer (a+b). Que représente ce calcul?\n",
    "\n",
    "Calculer (a+c). Que représente ce calcul?\n",
    "\n",
    "Afficher b.T\n",
    "\n",
    "En déduire une façon d'ajouter b à chaque colonne de a"
   ]
  },
  {
   "cell_type": "code",
   "execution_count": 17,
   "metadata": {},
   "outputs": [
    {
     "name": "stdout",
     "output_type": "stream",
     "text": [
      "a = [[2 5 6]\n",
      " [7 8 1]\n",
      " [4 3 9]] \n",
      "b = [[5 8 8]] \n",
      "c= [[8]\n",
      " [8]\n",
      " [5]]\n",
      "a+b [[ 7 13 14]\n",
      " [12 16  9]\n",
      " [ 9 11 17]]\n",
      "a+c [[10 13 14]\n",
      " [15 16  9]\n",
      " [ 9  8 14]]\n",
      "b.T [[5]\n",
      " [8]\n",
      " [8]]\n",
      "a+b.T [[ 7 10 11]\n",
      " [15 16  9]\n",
      " [12 11 17]]\n",
      "a = [[2 5 6]\n",
      " [7 8 1]\n",
      " [4 3 9]] \n",
      "b = [[5 8 8]] \n",
      "c= [[8]\n",
      " [8]\n",
      " [5]]\n"
     ]
    }
   ],
   "source": [
    "# A compléter ..."
   ]
  },
  {
   "cell_type": "markdown",
   "metadata": {},
   "source": [
    "Calculer la somme b+c, afficher le résultat et le commenter."
   ]
  },
  {
   "cell_type": "code",
   "execution_count": 18,
   "metadata": {},
   "outputs": [
    {
     "name": "stdout",
     "output_type": "stream",
     "text": [
      "\n",
      "b:\n",
      " [[5 8 8]] \n",
      "c:\n",
      " [[8]\n",
      " [8]\n",
      " [5]] \n",
      "b+c:\n",
      " [[13 16 16]\n",
      " [13 16 16]\n",
      " [10 13 13]]\n"
     ]
    }
   ],
   "source": [
    "# A compléter ..."
   ]
  },
  {
   "cell_type": "markdown",
   "metadata": {},
   "source": [
    "### 5. Exercice récapitulatif\n",
    "On regroupe dans une liste de listes les notes de 50 étudiants. Il y a 20 notes par étudiant.\n",
    "\n"
   ]
  },
  {
   "cell_type": "code",
   "execution_count": 19,
   "metadata": {},
   "outputs": [],
   "source": [
    "tabNotes=[[ 4,  4,  13, 9, 11,  8, 11, 8,  0,  6, 6,  12,  5,  9,  6,  8,\n",
    "         3, 11, 10, 11],\n",
    "       [5, 11, 9,  2,  6,  7, 6,  6, 11, 11,  1, 10, 11, 7, 14, 10,\n",
    "         9, 12,  7,  5],\n",
    "       [15, 16,  12,  10, 13, 10, 11, 14,  6,  6,  13,  8, 11, 12, 10,  9,\n",
    "        10,  12, 12,  12],\n",
    "       [12, 17, 14,  13, 12, 17,  13, 14,  15, 16, 15,  15,  12,  16,  13, 20,\n",
    "         12, 14,  14, 19],\n",
    "       [6,  7,  5, 13,  6,  9,  10,  10,  9,  8, 7,  0, 6,  6, 13, 13,\n",
    "        10,  4, 16, 13],\n",
    "       [ 5,  4,  6,  9, 11, 13,  6,  7, 10,  8,  6, 13, 11, 11, 11, 15,\n",
    "        10, 10,  9,  8],\n",
    "       [ 11, 7, 12, 10, 10,  6,  5, 8,  10,  3, 9, 11,  8,  7, 11,  4,\n",
    "         6, 12,  4,  7],\n",
    "       [10, 10, 11,  5,  9, 10, 16,  5,  5,  4, 13, 14, 12,  2, 16,  5,\n",
    "        11,  8,  9,  6],\n",
    "       [ 2, 5, 7,  3,  4, 16, 12,  8,  0, 9, 10, 10,  9,  3,  4,  3,\n",
    "        10, 7, 12, 10],\n",
    "       [ 4, 10, 13,  8,  8,  7, 10,  3,  8,  6,  0, 15, 12, 11, 12, 15,\n",
    "        11, 13, 15,  4],\n",
    "       [15,  11,  10, 16, 14,  17, 19, 17, 16,  16, 17, 14, 12,  17,  12, 14,\n",
    "         17, 17,  13,  12],\n",
    "       [6, 7,  4, 14,  8, 11,  9,  7, 12,  6,  8, 11,  10, 9,  13, 9,\n",
    "         12,  9, 10, 10],\n",
    "       [20, 14, 17, 17, 16,  13, 17, 15,  17, 14,  10, 17,  14,  13,  19, 15,\n",
    "         13, 19, 15,  18],\n",
    "       [ 3, 14, 11,  3,  11,  8,  2, 11,  4,  5, 12, 17,  3,  3,  9, 13,\n",
    "        12,  3,  5, 10],\n",
    "       [ 5, 10, 10, 11, 9, 12,  0,  5,  2, 12, 9,  9,  1,  4, 10,  9,\n",
    "        10,  1, 10, 13],\n",
    "       [10,  8,  8, 19, 13,  6,  5, 16, 16,  10, 17,  10,  3, 15, 13, 14,\n",
    "         5, 14, 12,  9],\n",
    "       [ 9, 10, 10, 10, 13, 10, 12,  7, 10, 10, 11, 15,  5,  7,  0,  7,\n",
    "        12, 10, 13, 13],\n",
    "       [ 6,  7,  2, 11,  1, 11,  11, 11,  6,  0, 10, 14, 12,  12,  9,  13,\n",
    "        18,  10, 18, 20],\n",
    "       [14,  13, 19,  10,  17, 15,  10,  15,  12, 13,  7,  8,  13, 11,  9, 18,\n",
    "        13, 13,  5, 18],\n",
    "       [4,  1,  6, 17,  4,  7,  5, 19, 11,  5,  7, 18, 16,  8,  9, 11,\n",
    "        10, 10,  1, 12],\n",
    "       [12, 12,  12,  6,  6, 15, 11, 12, 12, 10, 11, 11, 12, 11,  9, 11,\n",
    "         5, 7,  12, 12],\n",
    "       [ 7, 5, 13, 11,  9, 11,  6, 10, 12, 10, 17, 10,  5,  4,  9, 11,\n",
    "        10,  3, 11,  5],\n",
    "       [10,  6, 10,  4, 8,  4,  5,  4,  4, 8, 7, 9,  4, 9, 5, 8,\n",
    "         4,  2,  7,  3],\n",
    "       [14,  9,  3, 13,  5, 11,  6, 12, 10,  7, 12,  6, 13,  8,  0,  5,\n",
    "        14, 13, 12, 11],\n",
    "       [10,  4,  5,  3,  7, 15,  8,  0,  7,  8,  0,  5,  4, 12,  8,  4,\n",
    "        13, 12, 14, 11],\n",
    "       [11,  8, 11, 11,  10, 14,  2, 11, 10, 12,  10,  9, 10,  8,  9, 12,\n",
    "        10, 10, 7,  7],\n",
    "       [ 5,  4, 5,  13, 7,  7,  9, 10,  6, 11, 13, 12,  8,  9,  3,  0,\n",
    "        10,  9, 11, 14],\n",
    "       [11, 11, 11,  10,  10, 10,  7,  12,  7, 14,  6,  13, 11,  12, 8, 7,\n",
    "        12,  12,  8, 11],\n",
    "       [11, 10,  8,  6, 11,  8,  8, 14,  11, 12,  12, 11,  11,  10, 10, 8,\n",
    "         13,  9,  5, 11],\n",
    "       [17, 17, 14, 15,  13, 12, 15,  15, 15, 16, 16, 12,  14, 15, 14, 11,\n",
    "         6, 13,  12, 10],\n",
    "       [16, 13, 15, 13,  11,  10, 14,  12,  10,  12, 16,  16,  16,  16, 10, 10,\n",
    "         10,  11,  11,  11],\n",
    "       [12, 12,  8,  8,  9,  9, 15,  9,  9, 9,  9,  7, 13, 10, 9, 14,\n",
    "         5, 12,  10,  5],\n",
    "       [16,  9,  10,  8, 17, 13, 16, 13,  7,  9, 17, 10, 16, 11,  7, 11,\n",
    "        10,  6, 12, 12],\n",
    "       [10,  5,  5,  6,  7,  2, 10, 13, 17, 12, 10, 12, 16,  10, 13,  5,\n",
    "        10,  7, 10,  8],\n",
    "       [ 3, 12,  8, 9, 9, 12,  2, 12,  3,  7,  1, 10,  6, 9,  5,  7,\n",
    "         2,  5, 15, 10],\n",
    "       [14, 12,  9, 12,  9, 8, 12, 10,  9, 13, 13,  8,  2, 13,  11,  11,\n",
    "         13, 7,  11,  11],\n",
    "       [ 11, 8,  9, 14, 16,  3, 16,  4,  5, 13, 12,  11, 9,  7, 7, 16,\n",
    "        14, 10, 16,  6],\n",
    "       [11,  4,  5,  10,  4,  5, 10, 10, 14,  4, 12,  6,  7,  9, 16,  8,\n",
    "        10, 9, 9,  13],\n",
    "       [16, 18, 10, 18, 11, 12, 19, 13,  4,  6,  16, 17, 17, 10,  7, 16,\n",
    "        10, 10,  3,  1],\n",
    "       [ 7, 12,  9, 12, 9,  12,  4, 13, 13,  3,  12,  9, 14, 19, 12,  0,\n",
    "         3, 6, 13, 13],\n",
    "       [14, 10, 10,  9,  6, 12, 18, 18, 14, 14, 10, 18,  10, 10,  10,  12,\n",
    "        19,  5, 14,  0],\n",
    "       [20, 20,  1,  7,  5, 15,  5, 8, 9,  8,  7, 8, 8, 16,  0,  3,\n",
    "         3, 13,  3,  6],\n",
    "       [ 4,  6,  1, 2, 13,  2, 9, 6, 10, 12, 12,  2,  4,  10, 14,  10,\n",
    "         6, 15, 10,  5],\n",
    "       [ 3, 7,  3,  4, 10,  3, 10, 13,  7,  5,  3,  4, 2,  8, 11,  8,\n",
    "         9,  6,  7,  3],\n",
    "       [20, 14,  9, 13,  6, 5, 8,  4,  4, 11,  6,  11,  12, 11, 10,  4,\n",
    "         7, 8,  9,  11],\n",
    "       [ 8, 10,  2,  8,  5, 10,  10,  0, 7,  7,  6, 14, 13,  4, 7,  8,\n",
    "         6, 8, 12,  3],\n",
    "       [ 8, 12,  7,  9, 14, 12, 12, 12, 13, 13,  9,  7,  4, 10,  8, 11,\n",
    "         6, 15,  0, 15],\n",
    "       [ 7, 11,  7, 11,  6,  7, 10,  8,  1, 14, 12, 13, 10,  8, 15, 12,\n",
    "        7, 10, 14,  4],\n",
    "       [18,  9, 14,  5, 14,  6, 12,  8,  12,  10, 9,  8, 9,  0,  4, 15,\n",
    "        11, 10,  12,  7],\n",
    "       [ 20,  6, 10,  12,  5,  4,  13,  8, 12, 12,  13, 12, 17,  8,  9,  0,\n",
    "        10,  13,  12,  13]]"
   ]
  },
  {
   "cell_type": "markdown",
   "metadata": {},
   "source": [
    "1.Transformer ce tableau en array numpy. Vérifier qu'on a bien un tableau à 50 lignes et 20 colonnes.\n",
    "\n",
    "Calculer la moyenne globale des toutes les notes puis la moyenne des toues les notes non nulles."
   ]
  },
  {
   "cell_type": "code",
   "execution_count": 20,
   "metadata": {},
   "outputs": [
    {
     "name": "stdout",
     "output_type": "stream",
     "text": [
      "moyenne globale :  9.714\n",
      "moyenne sans les 0:  9.892057026476579\n"
     ]
    }
   ],
   "source": [
    "# A compléter ..."
   ]
  },
  {
   "cell_type": "markdown",
   "metadata": {},
   "source": [
    "2.a. Calculer le tableau des  50 moyennes des des étudiants à chaque test.\n",
    "\n",
    "b. Calculer le tableau des 20 notes moyennes pour chaque des 20 tests.\n"
   ]
  },
  {
   "cell_type": "code",
   "execution_count": 21,
   "metadata": {},
   "outputs": [
    {
     "name": "stdout",
     "output_type": "stream",
     "text": [
      "moyennes par étudiants [ 7.75  8.   11.1  14.65  8.55  9.15  8.05  9.05  7.2   9.25 14.8   9.25\n",
      " 15.65  7.95  7.6  11.15  9.7  10.1  12.65  9.05 10.45  8.95  6.05  9.2\n",
      "  7.5   9.6   8.3  10.15  9.95 13.6  12.65  9.7  11.5   9.4   7.35 10.4\n",
      " 10.35  8.8  11.7   9.75 11.65  8.25  7.65  6.3   9.15  7.4   9.85  9.35\n",
      "  9.65 10.45]\n",
      "moyennes par devoir [10.24  9.64  8.86  9.84  9.36  9.64  9.84 10.    9.08  9.4   9.94 10.84\n",
      "  9.66  9.6   9.46  9.66  9.64  9.7  10.24  9.64]\n"
     ]
    }
   ],
   "source": [
    "# A compléter ..."
   ]
  },
  {
   "cell_type": "markdown",
   "metadata": {},
   "source": [
    "3.a. Pour chacun des 20 tests, compter combien d'étudiants ont la moyenne et afficher les résultats\n",
    "\n",
    "3.b. Compter pour chaque étudiant combien de fois il a eu la moyenne"
   ]
  },
  {
   "cell_type": "code",
   "execution_count": 22,
   "metadata": {},
   "outputs": [
    {
     "name": "stdout",
     "output_type": "stream",
     "text": [
      "pour chaque test: nombre d'étudiants ayant la moyenne  \n",
      "  [29 27 24 28 23 28 29 29 26 26 29 33 29 26 25 27 33 29 33 30]\n",
      "\n",
      "pour chaque étudiant: nombre de tests où il a eu la moyenne  \n",
      " [ 7  8 16 20  8 10  8 10  7 11 20  9 20  9  9 13 14 13 16  9 15 11  2 11\n",
      "  7 13  8 14 13 19 20  8 14 12  6 13 11  9 15 11 16  5  9  4  9  6 11 11\n",
      " 10 13]\n"
     ]
    }
   ],
   "source": [
    "# A compléter ..."
   ]
  },
  {
   "cell_type": "markdown",
   "metadata": {},
   "source": [
    "4. Afficher le numéro de l'étudiant qui a la meilleure moyenne sur les 20 tests et celui qui a la moins bonne (ainsi que les moyennes correspondantes)."
   ]
  },
  {
   "cell_type": "code",
   "execution_count": 23,
   "metadata": {},
   "outputs": [
    {
     "name": "stdout",
     "output_type": "stream",
     "text": [
      "c'est l'étudiant  12 qui a la meilleure moyenne avec 15.65\n",
      "c 'est l'étudiant  22 qui a la plus faible moyenne avec 6.05\n"
     ]
    }
   ],
   "source": [
    "# A compléter ..."
   ]
  },
  {
   "cell_type": "markdown",
   "metadata": {},
   "source": [
    "5. Calculer et afficher le numéro de l'étudiant qui a le plus de notes supérieures à 14."
   ]
  },
  {
   "cell_type": "code",
   "execution_count": 24,
   "metadata": {},
   "outputs": [
    {
     "name": "stdout",
     "output_type": "stream",
     "text": [
      "c'est l'étudiant  12 qui a le plus de notes supérieures à 14 avec 16 notes supérieures à 14\n"
     ]
    }
   ],
   "source": [
    "# A compléter ..."
   ]
  },
  {
   "cell_type": "markdown",
   "metadata": {},
   "source": [
    "6. On veut corriger quelques erreurs de saisie\n",
    "- l'étudiant de la ligne d'indice 5 a dix points de plus pour sa dernière note\n",
    "- pour le test de la première colonne (colonne 0) , il faut ajouter 2 points à tous les étudiants\n",
    "- ensuite il faut remettre à 20 les notes qui dépasseraient 20"
   ]
  },
  {
   "cell_type": "code",
   "execution_count": 25,
   "metadata": {},
   "outputs": [
    {
     "name": "stdout",
     "output_type": "stream",
     "text": [
      "[[ 6  4 13  9 11  8 11  8  0  6  6 12  5  9  6  8  3 11 10 11]\n",
      " [ 7 11  9  2  6  7  6  6 11 11  1 10 11  7 14 10  9 12  7  5]\n",
      " [17 16 12 10 13 10 11 14  6  6 13  8 11 12 10  9 10 12 12 12]\n",
      " [14 17 14 13 12 17 13 14 15 16 15 15 12 16 13 20 12 14 14 19]\n",
      " [ 8  7  5 13  6  9 10 10  9  8  7  0  6  6 13 13 10  4 16 13]\n",
      " [ 7  4  6  9 11 13  6  7 10  8  6 13 11 11 11 15 10 10  9 18]\n",
      " [13  7 12 10 10  6  5  8 10  3  9 11  8  7 11  4  6 12  4  7]\n",
      " [12 10 11  5  9 10 16  5  5  4 13 14 12  2 16  5 11  8  9  6]\n",
      " [ 4  5  7  3  4 16 12  8  0  9 10 10  9  3  4  3 10  7 12 10]\n",
      " [ 6 10 13  8  8  7 10  3  8  6  0 15 12 11 12 15 11 13 15  4]\n",
      " [17 11 10 16 14 17 19 17 16 16 17 14 12 17 12 14 17 17 13 12]\n",
      " [ 8  7  4 14  8 11  9  7 12  6  8 11 10  9 13  9 12  9 10 10]\n",
      " [20 14 17 17 16 13 17 15 17 14 10 17 14 13 19 15 13 19 15 18]\n",
      " [ 5 14 11  3 11  8  2 11  4  5 12 17  3  3  9 13 12  3  5 10]\n",
      " [ 7 10 10 11  9 12  0  5  2 12  9  9  1  4 10  9 10  1 10 13]\n",
      " [12  8  8 19 13  6  5 16 16 10 17 10  3 15 13 14  5 14 12  9]\n",
      " [11 10 10 10 13 10 12  7 10 10 11 15  5  7  0  7 12 10 13 13]\n",
      " [ 8  7  2 11  1 11 11 11  6  0 10 14 12 12  9 13 18 10 18 20]\n",
      " [16 13 19 10 17 15 10 15 12 13  7  8 13 11  9 18 13 13  5 18]\n",
      " [ 6  1  6 17  4  7  5 19 11  5  7 18 16  8  9 11 10 10  1 12]\n",
      " [14 12 12  6  6 15 11 12 12 10 11 11 12 11  9 11  5  7 12 12]\n",
      " [ 9  5 13 11  9 11  6 10 12 10 17 10  5  4  9 11 10  3 11  5]\n",
      " [12  6 10  4  8  4  5  4  4  8  7  9  4  9  5  8  4  2  7  3]\n",
      " [16  9  3 13  5 11  6 12 10  7 12  6 13  8  0  5 14 13 12 11]\n",
      " [12  4  5  3  7 15  8  0  7  8  0  5  4 12  8  4 13 12 14 11]\n",
      " [13  8 11 11 10 14  2 11 10 12 10  9 10  8  9 12 10 10  7  7]\n",
      " [ 7  4  5 13  7  7  9 10  6 11 13 12  8  9  3  0 10  9 11 14]\n",
      " [13 11 11 10 10 10  7 12  7 14  6 13 11 12  8  7 12 12  8 11]\n",
      " [13 10  8  6 11  8  8 14 11 12 12 11 11 10 10  8 13  9  5 11]\n",
      " [19 17 14 15 13 12 15 15 15 16 16 12 14 15 14 11  6 13 12 10]\n",
      " [18 13 15 13 11 10 14 12 10 12 16 16 16 16 10 10 10 11 11 11]\n",
      " [14 12  8  8  9  9 15  9  9  9  9  7 13 10  9 14  5 12 10  5]\n",
      " [18  9 10  8 17 13 16 13  7  9 17 10 16 11  7 11 10  6 12 12]\n",
      " [12  5  5  6  7  2 10 13 17 12 10 12 16 10 13  5 10  7 10  8]\n",
      " [ 5 12  8  9  9 12  2 12  3  7  1 10  6  9  5  7  2  5 15 10]\n",
      " [16 12  9 12  9  8 12 10  9 13 13  8  2 13 11 11 13  7 11 11]\n",
      " [13  8  9 14 16  3 16  4  5 13 12 11  9  7  7 16 14 10 16  6]\n",
      " [13  4  5 10  4  5 10 10 14  4 12  6  7  9 16  8 10  9  9 13]\n",
      " [18 18 10 18 11 12 19 13  4  6 16 17 17 10  7 16 10 10  3  1]\n",
      " [ 9 12  9 12  9 12  4 13 13  3 12  9 14 19 12  0  3  6 13 13]\n",
      " [16 10 10  9  6 12 18 18 14 14 10 18 10 10 10 12 19  5 14  0]\n",
      " [20 20  1  7  5 15  5  8  9  8  7  8  8 16  0  3  3 13  3  6]\n",
      " [ 6  6  1  2 13  2  9  6 10 12 12  2  4 10 14 10  6 15 10  5]\n",
      " [ 5  7  3  4 10  3 10 13  7  5  3  4  2  8 11  8  9  6  7  3]\n",
      " [20 14  9 13  6  5  8  4  4 11  6 11 12 11 10  4  7  8  9 11]\n",
      " [10 10  2  8  5 10 10  0  7  7  6 14 13  4  7  8  6  8 12  3]\n",
      " [10 12  7  9 14 12 12 12 13 13  9  7  4 10  8 11  6 15  0 15]\n",
      " [ 9 11  7 11  6  7 10  8  1 14 12 13 10  8 15 12  7 10 14  4]\n",
      " [20  9 14  5 14  6 12  8 12 10  9  8  9  0  4 15 11 10 12  7]\n",
      " [20  6 10 12  5  4 13  8 12 12 13 12 17  8  9  0 10 13 12 13]]\n"
     ]
    }
   ],
   "source": [
    "# A compléter ..."
   ]
  },
  {
   "cell_type": "markdown",
   "metadata": {},
   "source": [
    "7. Extraire et afficher les résultats du test 5  (colonne d'indice 4)"
   ]
  },
  {
   "cell_type": "code",
   "execution_count": 26,
   "metadata": {},
   "outputs": [
    {
     "name": "stdout",
     "output_type": "stream",
     "text": [
      "[11  6 13 12  6 11 10  9  4  8 14  8 16 11  9 13 13  1 17  4  6  9  8  5\n",
      "  7 10  7 10 11 13 11  9 17  7  9  9 16  4 11  9  6  5 13 10  6  5 14  6\n",
      " 14  5]\n"
     ]
    }
   ],
   "source": [
    "# A compléter ..."
   ]
  },
  {
   "cell_type": "markdown",
   "metadata": {},
   "source": [
    "8. Utiliser np.unique pour voir quelle est la note la plus souvent obtenue à ce test et quelles notes ne sont pas obtenues."
   ]
  },
  {
   "cell_type": "code",
   "execution_count": 27,
   "metadata": {},
   "outputs": [
    {
     "name": "stdout",
     "output_type": "stream",
     "text": [
      "(array([ 1,  4,  5,  6,  7,  8,  9, 10, 11, 12, 13, 14, 16, 17]), array([1, 3, 4, 6, 3, 3, 7, 4, 6, 1, 5, 3, 2, 2]))\n"
     ]
    }
   ],
   "source": [
    "# A compléter ..."
   ]
  },
  {
   "cell_type": "markdown",
   "metadata": {},
   "source": [
    "9. Utiliser np.where pour récupérer les numéros des étudiants qui ont eu plus de 12  ce test."
   ]
  },
  {
   "cell_type": "code",
   "execution_count": 28,
   "metadata": {},
   "outputs": [
    {
     "name": "stdout",
     "output_type": "stream",
     "text": [
      "(array([ 2,  3, 10, 12, 15, 16, 18, 29, 32, 36, 42, 46, 48]),)\n"
     ]
    }
   ],
   "source": [
    "# A compléter ..."
   ]
  }
 ],
 "metadata": {
  "kernelspec": {
   "display_name": "Python 3 (ipykernel)",
   "language": "python",
   "name": "python3"
  },
  "language_info": {
   "codemirror_mode": {
    "name": "ipython",
    "version": 3
   },
   "file_extension": ".py",
   "mimetype": "text/x-python",
   "name": "python",
   "nbconvert_exporter": "python",
   "pygments_lexer": "ipython3",
   "version": "3.9.10"
  },
  "latex_envs": {
   "LaTeX_envs_menu_present": false,
   "autoclose": false,
   "autocomplete": false,
   "bibliofile": "biblio.bib",
   "cite_by": "apalike",
   "current_citInitial": 1,
   "eqLabelWithNumbers": false,
   "eqNumInitial": 1,
   "hotkeys": {
    "equation": "Ctrl-E",
    "itemize": "Ctrl-I"
   },
   "labels_anchors": false,
   "latex_user_defs": false,
   "report_style_numbering": false,
   "user_envs_cfg": false
  },
  "toc": {
   "base_numbering": 1,
   "nav_menu": {},
   "number_sections": true,
   "sideBar": true,
   "skip_h1_title": false,
   "title_cell": "Table of Contents",
   "title_sidebar": "Contents",
   "toc_cell": false,
   "toc_position": {},
   "toc_section_display": true,
   "toc_window_display": false
  },
  "vscode": {
   "interpreter": {
    "hash": "a2f5a4e5cb9685a704f3797f6942b9eb6ca9983296f40a6a598da917a934f46a"
   }
  }
 },
 "nbformat": 4,
 "nbformat_minor": 2
}
