{
 "cells": [
  {
   "cell_type": "markdown",
   "metadata": {},
   "source": [
    "# Calcul Scientifique -- L1\n",
    "# exo noté 2 - fin de TP groupe 2B\n",
    "# 21 mars 2024¶"
   ]
  },
  {
   "cell_type": "markdown",
   "metadata": {},
   "source": [
    "Travail réalisé par : CHAIB SETTI  / Mohamed Nacim \n",
    "\n",
    "Le travail est à rendre individuellement sur ecampus dans le délai prévu. Il sera noté.\n",
    "Il faut rendre uniquement le fichier ipynb qu'on appelera nom_prenom.ipynb.\n",
    "\n",
    "Les boucles et les tests sont interdits sauf mention explicites dans l'énoncé.\n",
    "\n",
    "## N'oubliez pas les importations"
   ]
  },
  {
   "cell_type": "code",
   "execution_count": 16,
   "metadata": {},
   "outputs": [],
   "source": [
    "import numpy as np\n",
    "import scipy as sy\n",
    "import sympy \n",
    "import scipy.optimize\n",
    "import scipy.interpolate\n",
    "import scipy.integrate\n",
    "import matplotlib as mpl\n",
    "import matplotlib.pyplot as plt"
   ]
  },
  {
   "cell_type": "markdown",
   "metadata": {},
   "source": [
    "# Exercice 1 : Interpolation"
   ]
  },
  {
   "cell_type": "markdown",
   "metadata": {},
   "source": [
    "## Question 1.1) \n",
    "\n",
    "On considère la table suivante donnant les valeurs ν ($m^2.s^{−1}$) de la viscosité cinématique de l'eau en fonction de la température\n",
    "T (◦C) :\n",
    "Calculer le tableau numpy y_Viscosite à partir du tableau v de la viscosité et le tableau x_Temp à partir du tableau T des tempérautre. ci-dessous."
   ]
  },
  {
   "cell_type": "code",
   "execution_count": 17,
   "metadata": {},
   "outputs": [
    {
     "name": "stdout",
     "output_type": "stream",
     "text": [
      "Temperature en °C =  [15 16 17 18 19 20 21 22 23 24 25 26 27 28] \n",
      " viscosité en m^2.s^{−1} =  [1.14  1.11  1.08  1.06  1.03  1.01  0.983 0.96  0.938 0.917 0.896 0.876\n",
      " 0.857 0.839]\n"
     ]
    }
   ],
   "source": [
    "T=[ 15, 16, 17, 18, 19, 20, 21, 22 ,23, 24, 25, 26, 27, 28]\n",
    "v=[ 1.14, 1.11, 1.08, 1.06 ,1.03, 1.01, 0.983, 0.960, 0.938, 0.917, 0.896 ,0.876, 0.857, 0.839]\n",
    "# A compléter\n",
    "y_Viscosite = np.array(v)\n",
    "x_Temp = np.array(T)\n",
    "\n",
    "\n",
    "print(\"Temperature en °C = \",x_Temp,\"\\n viscosité en m^2.s^{−1} = \",y_Viscosite)\n"
   ]
  },
  {
   "cell_type": "markdown",
   "metadata": {},
   "source": [
    "## Question 1.2)\n",
    "On veut approximer les valeurs par la fonction f définie ci-dessous.\n",
    "Ecrire une fonction Python f(t,a,b) qui calcule cette fonction.\n",
    "$$f(t,a,b) = a e^{-bt}$$"
   ]
  },
  {
   "cell_type": "code",
   "execution_count": 18,
   "metadata": {},
   "outputs": [
    {
     "name": "stdout",
     "output_type": "stream",
     "text": [
      "f(0,1,1) =  1.0\n"
     ]
    }
   ],
   "source": [
    "# A compléter\n",
    "def f(t,a,b):\n",
    "    return a*np.exp(-b*t)\n",
    "\n",
    "print(\"f(0,1,1) = \",f(0,1,1))"
   ]
  },
  {
   "cell_type": "markdown",
   "metadata": {},
   "source": [
    "## Question 1.3.a)\n",
    "En utilisant la fonction d'interpolation scipy.optimize.curve_fit, calculer les valeurs exactes des coefficients a et b."
   ]
  },
  {
   "cell_type": "code",
   "execution_count": 19,
   "metadata": {},
   "outputs": [
    {
     "name": "stdout",
     "output_type": "stream",
     "text": [
      "a,b =  [1.61878157 0.0236358 ]\n"
     ]
    },
    {
     "name": "stderr",
     "output_type": "stream",
     "text": [
      "C:\\Users\\Mohamed\\AppData\\Local\\Temp\\ipykernel_24756\\3930666086.py:3: RuntimeWarning: overflow encountered in exp\n",
      "  return a*np.exp(-b*t)\n"
     ]
    }
   ],
   "source": [
    "# A compléter\n",
    "\n",
    "coeffs,fit = scipy.optimize.curve_fit(f,x_Temp,y_Viscosite)\n",
    "(a,b) = coeffs\n",
    "print(\"a,b = \",coeffs)"
   ]
  },
  {
   "cell_type": "markdown",
   "metadata": {},
   "source": [
    "## Question 1.3.b)\n",
    "En utilisant la fonction d'interpolation scipy.interpolate.CubicSpline, calculer la fonction nommé cs."
   ]
  },
  {
   "cell_type": "code",
   "execution_count": 20,
   "metadata": {},
   "outputs": [
    {
     "name": "stdout",
     "output_type": "stream",
     "text": [
      "cs(26.5) =  0.8663830530095499\n"
     ]
    }
   ],
   "source": [
    "# A compléter\n",
    "cs = scipy.interpolate.CubicSpline(x_Temp,y_Viscosite)\n",
    "print(\"cs(26.5) = \",cs(26.5))"
   ]
  },
  {
   "cell_type": "markdown",
   "metadata": {},
   "source": [
    "## Question 1.4.a) \n",
    "Quelle est la viscosité à 26.5 degrés ? On utilisera les fonctions f et cs définies précedemment. Quelle est la valeur maximum parmi les deux résultats?"
   ]
  },
  {
   "cell_type": "code",
   "execution_count": 21,
   "metadata": {},
   "outputs": [
    {
     "name": "stdout",
     "output_type": "stream",
     "text": [
      "f(26.5,a,b) =  0.8653035510810234\n",
      "cs(26.5) =  0.8663830530095499\n",
      "pour 26.5 °C viscosité max =\n"
     ]
    }
   ],
   "source": [
    "# A compléter\n",
    "print(\"f(26.5,a,b) = \",f(26.5,a,b))\n",
    "print(\"cs(26.5) = \",cs(26.5))\n",
    "\n",
    "print(\"pour 26.5 °C viscosité max =\",)"
   ]
  },
  {
   "cell_type": "markdown",
   "metadata": {},
   "source": [
    "## Question 1.4.b) \n",
    "Pour quelle température a-t-on ν = 0.9 $m^2.s^{−1}$ ? En utilisant la fonction précédente , donner une valeur approchée de x0 telque f(x0)=0.9."
   ]
  },
  {
   "cell_type": "code",
   "execution_count": 22,
   "metadata": {},
   "outputs": [
    {
     "ename": "SyntaxError",
     "evalue": "invalid syntax (3565197848.py, line 2)",
     "output_type": "error",
     "traceback": [
      "\u001b[1;36m  Cell \u001b[1;32mIn[22], line 2\u001b[1;36m\u001b[0m\n\u001b[1;33m    x0=\u001b[0m\n\u001b[1;37m        ^\u001b[0m\n\u001b[1;31mSyntaxError\u001b[0m\u001b[1;31m:\u001b[0m invalid syntax\n"
     ]
    }
   ],
   "source": [
    "# A compléter\n",
    "x0= \n",
    "print(\"x0 = \",\"x0\", \" approché tel que f(x0) = 0.9\")\n",
    "print(\"f(\",\"x0\",\") = \",)"
   ]
  },
  {
   "cell_type": "markdown",
   "metadata": {},
   "source": [
    "## Question 1.5.a)\n",
    "Calculer le tableau y09 qui correspond à la droite y=0.9."
   ]
  },
  {
   "cell_type": "code",
   "execution_count": null,
   "metadata": {},
   "outputs": [
    {
     "ename": "",
     "evalue": "",
     "output_type": "error",
     "traceback": [
      "\u001b[1;31mRunning cells with 'c:\\msys64\\ucrt64\\bin\\python.exe' requires the ipykernel package.\n",
      "\u001b[1;31mRun the following command to install 'ipykernel' into the Python environment. \n",
      "\u001b[1;31mCommand: 'c:/msys64/ucrt64/bin/python.exe -m pip install ipykernel -U --user --force-reinstall'"
     ]
    }
   ],
   "source": [
    "# A compléter\n",
    "y09 = y_Viscosite.copy()\n",
    "y09[:]=0.9\n",
    "print(y09)"
   ]
  },
  {
   "cell_type": "markdown",
   "metadata": {},
   "source": [
    "## Question 1.5.b)\n",
    "Tracer sur un même graphique les mesures et les fonctions d'approximations. Les mesures doivent représenter par des croix \"+\" bleues et la fonction par une courbe orange. La fonction des cubic spline par des pointillés rouge. La droite y=0.9 doit être en vert. Les légendes doivent être affichées comme sur la figure ci-dessous.\n",
    "\n",
    "Le graphique de gauche considère toutes les valeurs mesurées.\n",
    "\n",
    "Le graphique de droite considère uniquement les températures de l'intervalle [24;28[."
   ]
  },
  {
   "cell_type": "code",
   "execution_count": null,
   "metadata": {},
   "outputs": [
    {
     "ename": "",
     "evalue": "",
     "output_type": "error",
     "traceback": [
      "\u001b[1;31mRunning cells with 'c:\\msys64\\ucrt64\\bin\\python.exe' requires the ipykernel package.\n",
      "\u001b[1;31mRun the following command to install 'ipykernel' into the Python environment. \n",
      "\u001b[1;31mCommand: 'c:/msys64/ucrt64/bin/python.exe -m pip install ipykernel -U --user --force-reinstall'"
     ]
    }
   ],
   "source": [
    "# A compléter\n",
    "fig,ax=plt.subplots(1,2,figsize=(20,8))\n",
    "x2 = np.arange(24,28,1)\n",
    "# graphique colonne 0\n",
    "ax[0].plot(x_Temp,cs,\"r--\",label=\"curve_fit\")\n",
    "ax[0].scatter(x_Temp,y_Viscosite,marker=\"+\",color=\"blue\",label=\"mesure\")\n",
    "ax[0].plot(x_Temp,f(x_Temp,a,b),label=\"orange\")\n",
    "ax[0].plot(x_Temp,y09,color=\"green\",label=\"v=0.9\")\n",
    "ax[0].set_title(\"Viscosité (m2.s-1) de l'eau\")\n",
    "ax[0].set_ylabel(\"Viscosité\")\n",
    "ax[0].set_xlabel(\"Température\")\n",
    "ax[0].grid()\n",
    "# graphique colonne 1\n",
    "ax[1].plot(x2,cs,\"r--\",label=\"curve_fit\")\n",
    "ax[1].scatter(x2,y_Viscosite,marker=\"+\",color=\"blue\",label=\"mesure\")\n",
    "ax[1].plot(x2,f(x_Temp,a,b),label=\"orange\")\n",
    "ax[1].plot(x2,y09,color=\"green\",label=\"v=0.9\")\n",
    "ax[1].set_title(\"Viscosité (m2.s-1) de l'eau\")\n",
    "ax[1].set_ylabel(\"Viscosité\")\n",
    "ax[1].set_xlabel(\"Température\")\n",
    "ax[1].grid()\n",
    "# légendes\n",
    "ax[0].legend(loc=\"upper left\")\n",
    "ax[1].legend(loc=\"upper left\")\n",
    "plt.show()"
   ]
  },
  {
   "cell_type": "markdown",
   "metadata": {},
   "source": [
    "# Exercice 2 : calcul de racines "
   ]
  },
  {
   "cell_type": "markdown",
   "metadata": {},
   "source": [
    "## Question 2.1)\n",
    "En utilisant le calcul formel de sympy, afficher l'expression de la fonction ci-dessous, on nommera cette expression f_s.\n",
    "\n",
    "$$f(t,a,b) = a e^{-bt}$$"
   ]
  },
  {
   "cell_type": "code",
   "execution_count": 23,
   "metadata": {},
   "outputs": [
    {
     "name": "stdout",
     "output_type": "stream",
     "text": [
      "   -b⋅t\n",
      "a⋅ℯ    \n"
     ]
    }
   ],
   "source": [
    "# A compléter\n",
    "a,b,t = sympy.symbols(\"a,b,t\")\n",
    "f_s = a*sympy.exp(-b*t)\n",
    "sympy.pprint(f_s)"
   ]
  },
  {
   "cell_type": "markdown",
   "metadata": {},
   "source": [
    "## Question 2.2)\n",
    "\n",
    "Calculer et afficher la dérivée première $df1/dx$ de la fonction f. On nommera cette fonction df1_s."
   ]
  },
  {
   "cell_type": "code",
   "execution_count": 26,
   "metadata": {},
   "outputs": [
    {
     "name": "stdout",
     "output_type": "stream",
     "text": [
      "df1_s(t,a,b)=  -a*b*exp(-b*t)\n",
      "      -b⋅t\n",
      "-a⋅b⋅ℯ    \n"
     ]
    }
   ],
   "source": [
    "# A compléter\n",
    "df1_s = sympy.diff(f_s, t)\n",
    "print(\"df1_s(t,a,b)= \",df1_s )\n",
    "sympy.pprint(df1_s)"
   ]
  },
  {
   "cell_type": "markdown",
   "metadata": {},
   "source": [
    "## Question 2.3.a) \n",
    "\n",
    "Ecrire une fonction Python qui calcule la fonction g :\n",
    "\n",
    "$g(t,a,b) = f(t,a,b)-0.9$."
   ]
  },
  {
   "cell_type": "code",
   "execution_count": null,
   "metadata": {},
   "outputs": [
    {
     "ename": "",
     "evalue": "",
     "output_type": "error",
     "traceback": [
      "\u001b[1;31mRunning cells with 'c:\\msys64\\ucrt64\\bin\\python.exe' requires the ipykernel package.\n",
      "\u001b[1;31mRun the following command to install 'ipykernel' into the Python environment. \n",
      "\u001b[1;31mCommand: 'c:/msys64/ucrt64/bin/python.exe -m pip install ipykernel -U --user --force-reinstall'"
     ]
    }
   ],
   "source": [
    "# A compléter\n",
    "\n",
    "\n",
    "print(\"g(24.8) =\")"
   ]
  },
  {
   "cell_type": "markdown",
   "metadata": {},
   "source": [
    "## Question 2.3.b) \n",
    "\n",
    "Ecrire une fonction Python qui calcule la dérivée de la fonction g. On nommera cette fonction dg1.\n",
    "\n",
    "$g(t,a,b) = f(t,a,b)-0.9$."
   ]
  },
  {
   "cell_type": "code",
   "execution_count": null,
   "metadata": {},
   "outputs": [
    {
     "ename": "",
     "evalue": "",
     "output_type": "error",
     "traceback": [
      "\u001b[1;31mRunning cells with 'c:\\msys64\\ucrt64\\bin\\python.exe' requires the ipykernel package.\n",
      "\u001b[1;31mRun the following command to install 'ipykernel' into the Python environment. \n",
      "\u001b[1;31mCommand: 'c:/msys64/ucrt64/bin/python.exe -m pip install ipykernel -U --user --force-reinstall'"
     ]
    }
   ],
   "source": [
    "# A compléter\n",
    "\n",
    "\n",
    "print(\"dg1(24.8) =\",)"
   ]
  },
  {
   "cell_type": "markdown",
   "metadata": {},
   "source": [
    "## Question 2.4) \n",
    "\n",
    "A l'aide de la fonction newton écrite dans le TP7 , calculer la solution de $g(x)=0$. On pourra partir de la valeur initiale x0=24."
   ]
  },
  {
   "cell_type": "code",
   "execution_count": null,
   "metadata": {},
   "outputs": [
    {
     "ename": "",
     "evalue": "",
     "output_type": "error",
     "traceback": [
      "\u001b[1;31mRunning cells with 'c:\\msys64\\ucrt64\\bin\\python.exe' requires the ipykernel package.\n",
      "\u001b[1;31mRun the following command to install 'ipykernel' into the Python environment. \n",
      "\u001b[1;31mCommand: 'c:/msys64/ucrt64/bin/python.exe -m pip install ipykernel -U --user --force-reinstall'"
     ]
    }
   ],
   "source": [
    "# A compléter\n",
    "\n",
    "print(\"x0 = \",solution, \"tel que g(x0) = 0\")"
   ]
  },
  {
   "cell_type": "markdown",
   "metadata": {},
   "source": [
    "## Question 2.5)\n",
    "\n",
    "En déduire la valeur exacte de x0 tel que f(x0)=0.9."
   ]
  },
  {
   "cell_type": "code",
   "execution_count": null,
   "metadata": {},
   "outputs": [
    {
     "ename": "",
     "evalue": "",
     "output_type": "error",
     "traceback": [
      "\u001b[1;31mRunning cells with 'c:\\msys64\\ucrt64\\bin\\python.exe' requires the ipykernel package.\n",
      "\u001b[1;31mRun the following command to install 'ipykernel' into the Python environment. \n",
      "\u001b[1;31mCommand: 'c:/msys64/ucrt64/bin/python.exe -m pip install ipykernel -U --user --force-reinstall'"
     ]
    }
   ],
   "source": [
    "# A compléter\n",
    "print(\"f(x0) = 0.9, x0 = \",)"
   ]
  },
  {
   "cell_type": "markdown",
   "metadata": {},
   "source": [
    "## Question 2.6)\n",
    "En utilisant la fonction scipy.optimize.newton, calculer et afficher plus précisément la racine de l'équation $g(x,a,b)=0$. On utilisera $\"args=(a,b)\"$ pour indiquer les valeurs des paramètres de la fonctions g."
   ]
  },
  {
   "cell_type": "code",
   "execution_count": null,
   "metadata": {},
   "outputs": [
    {
     "ename": "",
     "evalue": "",
     "output_type": "error",
     "traceback": [
      "\u001b[1;31mRunning cells with 'c:\\msys64\\ucrt64\\bin\\python.exe' requires the ipykernel package.\n",
      "\u001b[1;31mRun the following command to install 'ipykernel' into the Python environment. \n",
      "\u001b[1;31mCommand: 'c:/msys64/ucrt64/bin/python.exe -m pip install ipykernel -U --user --force-reinstall'"
     ]
    }
   ],
   "source": [
    "# A compléter\n",
    "\n",
    "print(sol)"
   ]
  },
  {
   "cell_type": "code",
   "execution_count": null,
   "metadata": {},
   "outputs": [
    {
     "ename": "",
     "evalue": "",
     "output_type": "error",
     "traceback": [
      "\u001b[1;31mRunning cells with 'c:\\msys64\\ucrt64\\bin\\python.exe' requires the ipykernel package.\n",
      "\u001b[1;31mRun the following command to install 'ipykernel' into the Python environment. \n",
      "\u001b[1;31mCommand: 'c:/msys64/ucrt64/bin/python.exe -m pip install ipykernel -U --user --force-reinstall'"
     ]
    }
   ],
   "source": []
  }
 ],
 "metadata": {
  "kernelspec": {
   "display_name": "Python 3 (ipykernel)",
   "language": "python",
   "name": "python3"
  },
  "language_info": {
   "codemirror_mode": {
    "name": "ipython",
    "version": 3
   },
   "file_extension": ".py",
   "mimetype": "text/x-python",
   "name": "python",
   "nbconvert_exporter": "python",
   "pygments_lexer": "ipython3",
   "version": "3.12.1"
  }
 },
 "nbformat": 4,
 "nbformat_minor": 2
}
